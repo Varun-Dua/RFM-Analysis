{
 "cells": [
  {
   "cell_type": "code",
   "execution_count": 1,
   "metadata": {},
   "outputs": [],
   "source": [
    "import numpy as np\n",
    "import pandas as pd"
   ]
  },
  {
   "cell_type": "code",
   "execution_count": 2,
   "metadata": {},
   "outputs": [],
   "source": [
    "#setting file path and reading xls file\n",
    "basket_data_path = 'C:\\\\Datasets\\\\Data.xlsx'\n",
    "excel_file = pd.ExcelFile(basket_data_path)"
   ]
  },
  {
   "cell_type": "code",
   "execution_count": 3,
   "metadata": {},
   "outputs": [],
   "source": [
    "#reading separated sheets from the xlsx file\n",
    "pos_df = pd.read_excel(excel_file, 'POS DATA')\n",
    "loyalty_df = pd.read_excel(excel_file, 'LOYALTY')\n",
    "barcodes_df = pd.read_excel(excel_file, 'barcodes')\n",
    "taxonomy_df = pd.read_excel(excel_file, 'product taxonomy')"
   ]
  },
  {
   "cell_type": "code",
   "execution_count": 4,
   "metadata": {},
   "outputs": [
    {
     "data": {
      "text/html": [
       "<div>\n",
       "<style scoped>\n",
       "    .dataframe tbody tr th:only-of-type {\n",
       "        vertical-align: middle;\n",
       "    }\n",
       "\n",
       "    .dataframe tbody tr th {\n",
       "        vertical-align: top;\n",
       "    }\n",
       "\n",
       "    .dataframe thead th {\n",
       "        text-align: right;\n",
       "    }\n",
       "</style>\n",
       "<table border=\"1\" class=\"dataframe\">\n",
       "  <thead>\n",
       "    <tr style=\"text-align: right;\">\n",
       "      <th></th>\n",
       "      <th>Basket_ID</th>\n",
       "      <th>Date</th>\n",
       "      <th>Barcode</th>\n",
       "      <th>Sum_Units</th>\n",
       "      <th>Sum_Value</th>\n",
       "      <th>Card_ID</th>\n",
       "    </tr>\n",
       "  </thead>\n",
       "  <tbody>\n",
       "    <tr>\n",
       "      <td>0</td>\n",
       "      <td>1103084867</td>\n",
       "      <td>41379</td>\n",
       "      <td>800220505783</td>\n",
       "      <td>2</td>\n",
       "      <td>1.960000</td>\n",
       "      <td>9.160004e+12</td>\n",
       "    </tr>\n",
       "    <tr>\n",
       "      <td>1</td>\n",
       "      <td>1103853519</td>\n",
       "      <td>41381</td>\n",
       "      <td>520139501183</td>\n",
       "      <td>1</td>\n",
       "      <td>5.349993</td>\n",
       "      <td>9.164002e+12</td>\n",
       "    </tr>\n",
       "    <tr>\n",
       "      <td>2</td>\n",
       "      <td>1092750793</td>\n",
       "      <td>41346</td>\n",
       "      <td>520423907421</td>\n",
       "      <td>6</td>\n",
       "      <td>1.740015</td>\n",
       "      <td>9.164013e+12</td>\n",
       "    </tr>\n",
       "  </tbody>\n",
       "</table>\n",
       "</div>"
      ],
      "text/plain": [
       "    Basket_ID   Date       Barcode  Sum_Units  Sum_Value       Card_ID\n",
       "0  1103084867  41379  800220505783          2   1.960000  9.160004e+12\n",
       "1  1103853519  41381  520139501183          1   5.349993  9.164002e+12\n",
       "2  1092750793  41346  520423907421          6   1.740015  9.164013e+12"
      ]
     },
     "execution_count": 4,
     "metadata": {},
     "output_type": "execute_result"
    }
   ],
   "source": [
    "#view data importing\n",
    "pos_df.head(3)"
   ]
  },
  {
   "cell_type": "code",
   "execution_count": 5,
   "metadata": {},
   "outputs": [
    {
     "data": {
      "text/html": [
       "<div>\n",
       "<style scoped>\n",
       "    .dataframe tbody tr th:only-of-type {\n",
       "        vertical-align: middle;\n",
       "    }\n",
       "\n",
       "    .dataframe tbody tr th {\n",
       "        vertical-align: top;\n",
       "    }\n",
       "\n",
       "    .dataframe thead th {\n",
       "        text-align: right;\n",
       "    }\n",
       "</style>\n",
       "<table border=\"1\" class=\"dataframe\">\n",
       "  <thead>\n",
       "    <tr style=\"text-align: right;\">\n",
       "      <th></th>\n",
       "      <th>Basket_ID</th>\n",
       "      <th>Date</th>\n",
       "      <th>Barcode</th>\n",
       "      <th>Sum_Units</th>\n",
       "      <th>Sum_Value</th>\n",
       "      <th>Card_ID</th>\n",
       "    </tr>\n",
       "  </thead>\n",
       "  <tbody>\n",
       "    <tr>\n",
       "      <td>0</td>\n",
       "      <td>1103084867</td>\n",
       "      <td>2013-04-15</td>\n",
       "      <td>800220505783</td>\n",
       "      <td>2</td>\n",
       "      <td>1.960000</td>\n",
       "      <td>9160003751260</td>\n",
       "    </tr>\n",
       "    <tr>\n",
       "      <td>1</td>\n",
       "      <td>1103853519</td>\n",
       "      <td>2013-04-17</td>\n",
       "      <td>520139501183</td>\n",
       "      <td>1</td>\n",
       "      <td>5.349993</td>\n",
       "      <td>9164001986624</td>\n",
       "    </tr>\n",
       "    <tr>\n",
       "      <td>2</td>\n",
       "      <td>1092750793</td>\n",
       "      <td>2013-03-13</td>\n",
       "      <td>520423907421</td>\n",
       "      <td>6</td>\n",
       "      <td>1.740015</td>\n",
       "      <td>9164012915385</td>\n",
       "    </tr>\n",
       "  </tbody>\n",
       "</table>\n",
       "</div>"
      ],
      "text/plain": [
       "    Basket_ID       Date       Barcode  Sum_Units  Sum_Value        Card_ID\n",
       "0  1103084867 2013-04-15  800220505783          2   1.960000  9160003751260\n",
       "1  1103853519 2013-04-17  520139501183          1   5.349993  9164001986624\n",
       "2  1092750793 2013-03-13  520423907421          6   1.740015  9164012915385"
      ]
     },
     "execution_count": 5,
     "metadata": {},
     "output_type": "execute_result"
    }
   ],
   "source": [
    "#clean data: Convert MS Excel (Date int numbers) into Pandas readable dates. Convert Card_ID into String (remove decimals .00)\n",
    "pos_df['Date'] = pd.to_datetime('1899-12-30') + pd.to_timedelta(pos_df.Date, 'D')\n",
    "pos_df[\"Card_ID\"] = pos_df.Card_ID.astype(str).replace('\\.0', '', regex=True)\n",
    "pos_df.head(3)"
   ]
  },
  {
   "cell_type": "code",
   "execution_count": 6,
   "metadata": {},
   "outputs": [
    {
     "data": {
      "text/plain": [
       "Basket_ID             int64\n",
       "Date         datetime64[ns]\n",
       "Barcode               int64\n",
       "Sum_Units             int64\n",
       "Sum_Value           float64\n",
       "Card_ID              object\n",
       "dtype: object"
      ]
     },
     "execution_count": 6,
     "metadata": {},
     "output_type": "execute_result"
    }
   ],
   "source": [
    "# check final columns types\n",
    "pos_df.dtypes"
   ]
  },
  {
   "cell_type": "code",
   "execution_count": 7,
   "metadata": {},
   "outputs": [
    {
     "data": {
      "text/html": [
       "<div>\n",
       "<style scoped>\n",
       "    .dataframe tbody tr th:only-of-type {\n",
       "        vertical-align: middle;\n",
       "    }\n",
       "\n",
       "    .dataframe tbody tr th {\n",
       "        vertical-align: top;\n",
       "    }\n",
       "\n",
       "    .dataframe thead th {\n",
       "        text-align: right;\n",
       "    }\n",
       "</style>\n",
       "<table border=\"1\" class=\"dataframe\">\n",
       "  <thead>\n",
       "    <tr style=\"text-align: right;\">\n",
       "      <th></th>\n",
       "      <th>Barcode</th>\n",
       "      <th>CategoryA</th>\n",
       "      <th>CategoryB</th>\n",
       "      <th>CategoryC</th>\n",
       "      <th>CategoryD</th>\n",
       "    </tr>\n",
       "  </thead>\n",
       "  <tbody>\n",
       "    <tr>\n",
       "      <td>0</td>\n",
       "      <td>360923242189</td>\n",
       "      <td>60</td>\n",
       "      <td>60</td>\n",
       "      <td>767</td>\n",
       "      <td>2</td>\n",
       "    </tr>\n",
       "    <tr>\n",
       "      <td>1</td>\n",
       "      <td>501132123894</td>\n",
       "      <td>10</td>\n",
       "      <td>12</td>\n",
       "      <td>287</td>\n",
       "      <td>2</td>\n",
       "    </tr>\n",
       "  </tbody>\n",
       "</table>\n",
       "</div>"
      ],
      "text/plain": [
       "        Barcode  CategoryA  CategoryB  CategoryC  CategoryD\n",
       "0  360923242189         60         60        767          2\n",
       "1  501132123894         10         12        287          2"
      ]
     },
     "execution_count": 7,
     "metadata": {},
     "output_type": "execute_result"
    }
   ],
   "source": [
    "barcodes_df.head(2)"
   ]
  },
  {
   "cell_type": "code",
   "execution_count": 8,
   "metadata": {},
   "outputs": [
    {
     "name": "stdout",
     "output_type": "stream",
     "text": [
      "Total Records in POS data: 235474\n"
     ]
    }
   ],
   "source": [
    "#total number of records in POS data. Need to identify and exclude records with invalid Barcode\"eg: no analysis value\"\n",
    "print(\"Total Records in POS data:\",pos_df.shape[0])"
   ]
  },
  {
   "cell_type": "code",
   "execution_count": 9,
   "metadata": {},
   "outputs": [
    {
     "name": "stdout",
     "output_type": "stream",
     "text": [
      "Total Records after dropping NaN barcode values: 233247\n"
     ]
    }
   ],
   "source": [
    "# merge pos with barcodes table, keep values on left\"biggest table\". Drop NaN rows on CategoryA = barcode not found\n",
    "pos_barcode_df = pd.merge(pos_df, barcodes_df,on=\"Barcode\", how=\"left\")\n",
    "pos_barcode_df = pos_barcode_df.dropna(subset = ['CategoryA'])\n",
    "print(\"Total Records after dropping NaN barcode values:\",pos_barcode_df.shape[0])"
   ]
  },
  {
   "cell_type": "code",
   "execution_count": 10,
   "metadata": {},
   "outputs": [
    {
     "name": "stdout",
     "output_type": "stream",
     "text": [
      "Total Records deleted due to Invalid Barcode: 2227\n"
     ]
    }
   ],
   "source": [
    "#Total of 2227 records were deleted from our analysis, since they do not have a valid Barcode #\n",
    "print(\"Total Records deleted due to Invalid Barcode:\",pos_df.shape[0] - pos_barcode_df.shape[0])"
   ]
  },
  {
   "cell_type": "code",
   "execution_count": 11,
   "metadata": {},
   "outputs": [
    {
     "data": {
      "text/html": [
       "<div>\n",
       "<style scoped>\n",
       "    .dataframe tbody tr th:only-of-type {\n",
       "        vertical-align: middle;\n",
       "    }\n",
       "\n",
       "    .dataframe tbody tr th {\n",
       "        vertical-align: top;\n",
       "    }\n",
       "\n",
       "    .dataframe thead th {\n",
       "        text-align: right;\n",
       "    }\n",
       "</style>\n",
       "<table border=\"1\" class=\"dataframe\">\n",
       "  <thead>\n",
       "    <tr style=\"text-align: right;\">\n",
       "      <th></th>\n",
       "      <th>Basket_ID</th>\n",
       "      <th>Date</th>\n",
       "      <th>Barcode</th>\n",
       "      <th>Sum_Units</th>\n",
       "      <th>Sum_Value</th>\n",
       "      <th>Card_ID</th>\n",
       "      <th>CategoryA</th>\n",
       "      <th>CategoryB</th>\n",
       "      <th>CategoryC</th>\n",
       "      <th>CategoryD</th>\n",
       "    </tr>\n",
       "  </thead>\n",
       "  <tbody>\n",
       "    <tr>\n",
       "      <td>0</td>\n",
       "      <td>1103084867</td>\n",
       "      <td>2013-04-15</td>\n",
       "      <td>800220505783</td>\n",
       "      <td>2</td>\n",
       "      <td>1.960000</td>\n",
       "      <td>9160003751260</td>\n",
       "      <td>10.0</td>\n",
       "      <td>14.0</td>\n",
       "      <td>239.0</td>\n",
       "      <td>2.0</td>\n",
       "    </tr>\n",
       "    <tr>\n",
       "      <td>1</td>\n",
       "      <td>1103853519</td>\n",
       "      <td>2013-04-17</td>\n",
       "      <td>520139501183</td>\n",
       "      <td>1</td>\n",
       "      <td>5.349993</td>\n",
       "      <td>9164001986624</td>\n",
       "      <td>10.0</td>\n",
       "      <td>12.0</td>\n",
       "      <td>281.0</td>\n",
       "      <td>1.0</td>\n",
       "    </tr>\n",
       "    <tr>\n",
       "      <td>2</td>\n",
       "      <td>1092750793</td>\n",
       "      <td>2013-03-13</td>\n",
       "      <td>520423907421</td>\n",
       "      <td>6</td>\n",
       "      <td>1.740015</td>\n",
       "      <td>9164012915385</td>\n",
       "      <td>10.0</td>\n",
       "      <td>14.0</td>\n",
       "      <td>239.0</td>\n",
       "      <td>2.0</td>\n",
       "    </tr>\n",
       "  </tbody>\n",
       "</table>\n",
       "</div>"
      ],
      "text/plain": [
       "    Basket_ID       Date       Barcode  Sum_Units  Sum_Value        Card_ID  \\\n",
       "0  1103084867 2013-04-15  800220505783          2   1.960000  9160003751260   \n",
       "1  1103853519 2013-04-17  520139501183          1   5.349993  9164001986624   \n",
       "2  1092750793 2013-03-13  520423907421          6   1.740015  9164012915385   \n",
       "\n",
       "   CategoryA  CategoryB  CategoryC  CategoryD  \n",
       "0       10.0       14.0      239.0        2.0  \n",
       "1       10.0       12.0      281.0        1.0  \n",
       "2       10.0       14.0      239.0        2.0  "
      ]
     },
     "execution_count": 11,
     "metadata": {},
     "output_type": "execute_result"
    }
   ],
   "source": [
    "pos_barcode_df.head(3)"
   ]
  },
  {
   "cell_type": "code",
   "execution_count": 12,
   "metadata": {},
   "outputs": [
    {
     "data": {
      "text/html": [
       "<div>\n",
       "<style scoped>\n",
       "    .dataframe tbody tr th:only-of-type {\n",
       "        vertical-align: middle;\n",
       "    }\n",
       "\n",
       "    .dataframe tbody tr th {\n",
       "        vertical-align: top;\n",
       "    }\n",
       "\n",
       "    .dataframe thead th {\n",
       "        text-align: right;\n",
       "    }\n",
       "</style>\n",
       "<table border=\"1\" class=\"dataframe\">\n",
       "  <thead>\n",
       "    <tr style=\"text-align: right;\">\n",
       "      <th></th>\n",
       "      <th>Basket_ID</th>\n",
       "      <th>Date</th>\n",
       "      <th>Barcode</th>\n",
       "      <th>Sum_Units</th>\n",
       "      <th>Sum_Value</th>\n",
       "      <th>Card_ID</th>\n",
       "      <th>CategoryA</th>\n",
       "      <th>CategoryB</th>\n",
       "      <th>CategoryC</th>\n",
       "      <th>CategoryD</th>\n",
       "    </tr>\n",
       "  </thead>\n",
       "  <tbody>\n",
       "    <tr>\n",
       "      <td>304</td>\n",
       "      <td>1100772313</td>\n",
       "      <td>2013-04-08</td>\n",
       "      <td>871811760118</td>\n",
       "      <td>-1</td>\n",
       "      <td>-15.450007</td>\n",
       "      <td>nan</td>\n",
       "      <td>10.0</td>\n",
       "      <td>14.0</td>\n",
       "      <td>238.0</td>\n",
       "      <td>4.0</td>\n",
       "    </tr>\n",
       "    <tr>\n",
       "      <td>1494</td>\n",
       "      <td>1109150120</td>\n",
       "      <td>2013-05-02</td>\n",
       "      <td>520200100008</td>\n",
       "      <td>-3</td>\n",
       "      <td>-2.370007</td>\n",
       "      <td>nan</td>\n",
       "      <td>40.0</td>\n",
       "      <td>32.0</td>\n",
       "      <td>328.0</td>\n",
       "      <td>4.0</td>\n",
       "    </tr>\n",
       "  </tbody>\n",
       "</table>\n",
       "</div>"
      ],
      "text/plain": [
       "       Basket_ID       Date       Barcode  Sum_Units  Sum_Value Card_ID  \\\n",
       "304   1100772313 2013-04-08  871811760118         -1 -15.450007     nan   \n",
       "1494  1109150120 2013-05-02  520200100008         -3  -2.370007     nan   \n",
       "\n",
       "      CategoryA  CategoryB  CategoryC  CategoryD  \n",
       "304        10.0       14.0      238.0        4.0  \n",
       "1494       40.0       32.0      328.0        4.0  "
      ]
     },
     "execution_count": 12,
     "metadata": {},
     "output_type": "execute_result"
    }
   ],
   "source": [
    "#need to identify negative records = return of sales into a separated DF and analyze impact.\n",
    "returns_df = pos_barcode_df.loc[(pos_barcode_df['Sum_Units'] < 0)].copy()\n",
    "returns_df.head(2)"
   ]
  },
  {
   "cell_type": "code",
   "execution_count": 13,
   "metadata": {},
   "outputs": [
    {
     "data": {
      "text/html": [
       "<div>\n",
       "<style scoped>\n",
       "    .dataframe tbody tr th:only-of-type {\n",
       "        vertical-align: middle;\n",
       "    }\n",
       "\n",
       "    .dataframe tbody tr th {\n",
       "        vertical-align: top;\n",
       "    }\n",
       "\n",
       "    .dataframe thead th {\n",
       "        text-align: right;\n",
       "    }\n",
       "</style>\n",
       "<table border=\"1\" class=\"dataframe\">\n",
       "  <thead>\n",
       "    <tr style=\"text-align: right;\">\n",
       "      <th></th>\n",
       "      <th>Basket_ID</th>\n",
       "      <th>Date</th>\n",
       "      <th>Barcode</th>\n",
       "      <th>Sum_Units</th>\n",
       "      <th>Sum_Value</th>\n",
       "      <th>Card_ID</th>\n",
       "      <th>CategoryA</th>\n",
       "      <th>CategoryB</th>\n",
       "      <th>CategoryC</th>\n",
       "      <th>CategoryD</th>\n",
       "    </tr>\n",
       "  </thead>\n",
       "  <tbody>\n",
       "    <tr>\n",
       "      <td>0</td>\n",
       "      <td>1103084867</td>\n",
       "      <td>2013-04-15</td>\n",
       "      <td>800220505783</td>\n",
       "      <td>2</td>\n",
       "      <td>1.960000</td>\n",
       "      <td>9160003751260</td>\n",
       "      <td>10.0</td>\n",
       "      <td>14.0</td>\n",
       "      <td>239.0</td>\n",
       "      <td>2.0</td>\n",
       "    </tr>\n",
       "    <tr>\n",
       "      <td>1</td>\n",
       "      <td>1103853519</td>\n",
       "      <td>2013-04-17</td>\n",
       "      <td>520139501183</td>\n",
       "      <td>1</td>\n",
       "      <td>5.349993</td>\n",
       "      <td>9164001986624</td>\n",
       "      <td>10.0</td>\n",
       "      <td>12.0</td>\n",
       "      <td>281.0</td>\n",
       "      <td>1.0</td>\n",
       "    </tr>\n",
       "  </tbody>\n",
       "</table>\n",
       "</div>"
      ],
      "text/plain": [
       "    Basket_ID       Date       Barcode  Sum_Units  Sum_Value        Card_ID  \\\n",
       "0  1103084867 2013-04-15  800220505783          2   1.960000  9160003751260   \n",
       "1  1103853519 2013-04-17  520139501183          1   5.349993  9164001986624   \n",
       "\n",
       "   CategoryA  CategoryB  CategoryC  CategoryD  \n",
       "0       10.0       14.0      239.0        2.0  \n",
       "1       10.0       12.0      281.0        1.0  "
      ]
     },
     "execution_count": 13,
     "metadata": {},
     "output_type": "execute_result"
    }
   ],
   "source": [
    "#need to identify positive records = actual of sales into a separated DF to analyze returns impact.\n",
    "sales_df = pos_barcode_df.loc[(pos_barcode_df['Sum_Units'] > 0)].copy()\n",
    "sales_df.head(2)"
   ]
  },
  {
   "cell_type": "code",
   "execution_count": 14,
   "metadata": {},
   "outputs": [
    {
     "name": "stdout",
     "output_type": "stream",
     "text": [
      "Return Units as a Percentage of Total Units Sold: 0.32 %\n",
      "Return Value as a Percentage of Total Value Sold: 0.44 %\n"
     ]
    }
   ],
   "source": [
    "return_percentage_units = (((returns_df['Sum_Units'].sum())*-1)/sales_df['Sum_Units'].sum()*100).round(2)\n",
    "return_percentage_value = (((returns_df['Sum_Value'].sum())*-1)/sales_df['Sum_Value'].sum()*100).round(2)\n",
    "print(\"Return Units as a Percentage of Total Units Sold:\", return_percentage_units,\"%\")\n",
    "print(\"Return Value as a Percentage of Total Value Sold:\", return_percentage_value,\"%\")"
   ]
  },
  {
   "cell_type": "code",
   "execution_count": 15,
   "metadata": {},
   "outputs": [
    {
     "data": {
      "text/html": [
       "<div>\n",
       "<style scoped>\n",
       "    .dataframe tbody tr th:only-of-type {\n",
       "        vertical-align: middle;\n",
       "    }\n",
       "\n",
       "    .dataframe tbody tr th {\n",
       "        vertical-align: top;\n",
       "    }\n",
       "\n",
       "    .dataframe thead th {\n",
       "        text-align: right;\n",
       "    }\n",
       "</style>\n",
       "<table border=\"1\" class=\"dataframe\">\n",
       "  <thead>\n",
       "    <tr style=\"text-align: right;\">\n",
       "      <th></th>\n",
       "      <th>Basket_ID</th>\n",
       "      <th>Date</th>\n",
       "      <th>Barcode</th>\n",
       "      <th>Sum_Units</th>\n",
       "      <th>Sum_Value</th>\n",
       "      <th>Card_ID</th>\n",
       "      <th>CategoryA</th>\n",
       "      <th>CategoryB</th>\n",
       "      <th>CategoryC</th>\n",
       "      <th>CategoryD</th>\n",
       "    </tr>\n",
       "  </thead>\n",
       "  <tbody>\n",
       "    <tr>\n",
       "      <td>0</td>\n",
       "      <td>1103084867</td>\n",
       "      <td>2013-04-15</td>\n",
       "      <td>800220505783</td>\n",
       "      <td>2</td>\n",
       "      <td>1.960000</td>\n",
       "      <td>9160003751260</td>\n",
       "      <td>10.0</td>\n",
       "      <td>14.0</td>\n",
       "      <td>239.0</td>\n",
       "      <td>2.0</td>\n",
       "    </tr>\n",
       "    <tr>\n",
       "      <td>1</td>\n",
       "      <td>1103853519</td>\n",
       "      <td>2013-04-17</td>\n",
       "      <td>520139501183</td>\n",
       "      <td>1</td>\n",
       "      <td>5.349993</td>\n",
       "      <td>9164001986624</td>\n",
       "      <td>10.0</td>\n",
       "      <td>12.0</td>\n",
       "      <td>281.0</td>\n",
       "      <td>1.0</td>\n",
       "    </tr>\n",
       "  </tbody>\n",
       "</table>\n",
       "</div>"
      ],
      "text/plain": [
       "    Basket_ID       Date       Barcode  Sum_Units  Sum_Value        Card_ID  \\\n",
       "0  1103084867 2013-04-15  800220505783          2   1.960000  9160003751260   \n",
       "1  1103853519 2013-04-17  520139501183          1   5.349993  9164001986624   \n",
       "\n",
       "   CategoryA  CategoryB  CategoryC  CategoryD  \n",
       "0       10.0       14.0      239.0        2.0  \n",
       "1       10.0       12.0      281.0        1.0  "
      ]
     },
     "execution_count": 15,
     "metadata": {},
     "output_type": "execute_result"
    }
   ],
   "source": [
    "#Since the returns records are not traceable within the original sale record and considering the low % relevance, they will be excluded\n",
    "sales_data = sales_df.loc[(sales_df['Sum_Units'] > 0)].copy()\n",
    "sales_data.head(2)"
   ]
  },
  {
   "cell_type": "code",
   "execution_count": 16,
   "metadata": {},
   "outputs": [
    {
     "name": "stdout",
     "output_type": "stream",
     "text": [
      "Current cleaned Sales Dataset has:  232814 records\n"
     ]
    }
   ],
   "source": [
    "print(\"Current cleaned Sales Dataset has: \",sales_data.shape[0], \"records\")"
   ]
  },
  {
   "cell_type": "code",
   "execution_count": 17,
   "metadata": {},
   "outputs": [
    {
     "data": {
      "text/html": [
       "<div>\n",
       "<style scoped>\n",
       "    .dataframe tbody tr th:only-of-type {\n",
       "        vertical-align: middle;\n",
       "    }\n",
       "\n",
       "    .dataframe tbody tr th {\n",
       "        vertical-align: top;\n",
       "    }\n",
       "\n",
       "    .dataframe thead th {\n",
       "        text-align: right;\n",
       "    }\n",
       "</style>\n",
       "<table border=\"1\" class=\"dataframe\">\n",
       "  <thead>\n",
       "    <tr style=\"text-align: right;\">\n",
       "      <th></th>\n",
       "      <th>Basket_ID</th>\n",
       "      <th>Date</th>\n",
       "      <th>Barcode</th>\n",
       "      <th>Sum_Units</th>\n",
       "      <th>Sum_Value</th>\n",
       "      <th>Card_ID</th>\n",
       "      <th>CategoryA</th>\n",
       "      <th>CategoryB</th>\n",
       "      <th>CategoryC</th>\n",
       "      <th>CategoryD</th>\n",
       "    </tr>\n",
       "  </thead>\n",
       "  <tbody>\n",
       "    <tr>\n",
       "      <td>0</td>\n",
       "      <td>1103084867</td>\n",
       "      <td>2013-04-15</td>\n",
       "      <td>800220505783</td>\n",
       "      <td>2</td>\n",
       "      <td>1.960000</td>\n",
       "      <td>9160003751260</td>\n",
       "      <td>10.0</td>\n",
       "      <td>14.0</td>\n",
       "      <td>239.0</td>\n",
       "      <td>2.0</td>\n",
       "    </tr>\n",
       "    <tr>\n",
       "      <td>1</td>\n",
       "      <td>1103853519</td>\n",
       "      <td>2013-04-17</td>\n",
       "      <td>520139501183</td>\n",
       "      <td>1</td>\n",
       "      <td>5.349993</td>\n",
       "      <td>9164001986624</td>\n",
       "      <td>10.0</td>\n",
       "      <td>12.0</td>\n",
       "      <td>281.0</td>\n",
       "      <td>1.0</td>\n",
       "    </tr>\n",
       "  </tbody>\n",
       "</table>\n",
       "</div>"
      ],
      "text/plain": [
       "    Basket_ID       Date       Barcode  Sum_Units  Sum_Value        Card_ID  \\\n",
       "0  1103084867 2013-04-15  800220505783          2   1.960000  9160003751260   \n",
       "1  1103853519 2013-04-17  520139501183          1   5.349993  9164001986624   \n",
       "\n",
       "   CategoryA  CategoryB  CategoryC  CategoryD  \n",
       "0       10.0       14.0      239.0        2.0  \n",
       "1       10.0       12.0      281.0        1.0  "
      ]
     },
     "execution_count": 17,
     "metadata": {},
     "output_type": "execute_result"
    }
   ],
   "source": [
    "sales_data.head(2)"
   ]
  },
  {
   "cell_type": "code",
   "execution_count": 18,
   "metadata": {},
   "outputs": [
    {
     "data": {
      "text/html": [
       "<div>\n",
       "<style scoped>\n",
       "    .dataframe tbody tr th:only-of-type {\n",
       "        vertical-align: middle;\n",
       "    }\n",
       "\n",
       "    .dataframe tbody tr th {\n",
       "        vertical-align: top;\n",
       "    }\n",
       "\n",
       "    .dataframe thead th {\n",
       "        text-align: right;\n",
       "    }\n",
       "</style>\n",
       "<table border=\"1\" class=\"dataframe\">\n",
       "  <thead>\n",
       "    <tr style=\"text-align: right;\">\n",
       "      <th></th>\n",
       "      <th>Basket_ID</th>\n",
       "      <th>Date</th>\n",
       "      <th>Barcode</th>\n",
       "      <th>Sum_Units</th>\n",
       "      <th>Sum_Value</th>\n",
       "      <th>Card_ID</th>\n",
       "      <th>CategoryA</th>\n",
       "      <th>CategoryB</th>\n",
       "      <th>CategoryC</th>\n",
       "      <th>CategoryD</th>\n",
       "      <th>Key</th>\n",
       "    </tr>\n",
       "  </thead>\n",
       "  <tbody>\n",
       "    <tr>\n",
       "      <td>0</td>\n",
       "      <td>1103084867</td>\n",
       "      <td>2013-04-15</td>\n",
       "      <td>800220505783</td>\n",
       "      <td>2</td>\n",
       "      <td>1.960000</td>\n",
       "      <td>9160003751260</td>\n",
       "      <td>10.0</td>\n",
       "      <td>14.0</td>\n",
       "      <td>239.0</td>\n",
       "      <td>2.0</td>\n",
       "      <td>10142392</td>\n",
       "    </tr>\n",
       "    <tr>\n",
       "      <td>1</td>\n",
       "      <td>1103853519</td>\n",
       "      <td>2013-04-17</td>\n",
       "      <td>520139501183</td>\n",
       "      <td>1</td>\n",
       "      <td>5.349993</td>\n",
       "      <td>9164001986624</td>\n",
       "      <td>10.0</td>\n",
       "      <td>12.0</td>\n",
       "      <td>281.0</td>\n",
       "      <td>1.0</td>\n",
       "      <td>10122811</td>\n",
       "    </tr>\n",
       "    <tr>\n",
       "      <td>2</td>\n",
       "      <td>1092750793</td>\n",
       "      <td>2013-03-13</td>\n",
       "      <td>520423907421</td>\n",
       "      <td>6</td>\n",
       "      <td>1.740015</td>\n",
       "      <td>9164012915385</td>\n",
       "      <td>10.0</td>\n",
       "      <td>14.0</td>\n",
       "      <td>239.0</td>\n",
       "      <td>2.0</td>\n",
       "      <td>10142392</td>\n",
       "    </tr>\n",
       "  </tbody>\n",
       "</table>\n",
       "</div>"
      ],
      "text/plain": [
       "    Basket_ID       Date       Barcode  Sum_Units  Sum_Value        Card_ID  \\\n",
       "0  1103084867 2013-04-15  800220505783          2   1.960000  9160003751260   \n",
       "1  1103853519 2013-04-17  520139501183          1   5.349993  9164001986624   \n",
       "2  1092750793 2013-03-13  520423907421          6   1.740015  9164012915385   \n",
       "\n",
       "   CategoryA  CategoryB  CategoryC  CategoryD       Key  \n",
       "0       10.0       14.0      239.0        2.0  10142392  \n",
       "1       10.0       12.0      281.0        1.0  10122811  \n",
       "2       10.0       14.0      239.0        2.0  10142392  "
      ]
     },
     "execution_count": 18,
     "metadata": {},
     "output_type": "execute_result"
    }
   ],
   "source": [
    "#creat key for joining taxonomy description into sales df\n",
    "sales_data[\"Key\"] = sales_data[\"CategoryA\"].astype(str)+sales_data[\"CategoryB\"].astype(str)+sales_data[\"CategoryC\"].astype(str)+sales_data[\"CategoryD\"].astype(str)\n",
    "sales_data[\"Key\"] = sales_data.Key.astype(str).replace('\\.0', '', regex=True)\n",
    "sales_data.head(3)"
   ]
  },
  {
   "cell_type": "code",
   "execution_count": null,
   "metadata": {},
   "outputs": [],
   "source": []
  },
  {
   "cell_type": "code",
   "execution_count": 19,
   "metadata": {},
   "outputs": [],
   "source": [
    "#drop unnecessary columns\n",
    "sales_data.drop([\"CategoryA\", \"CategoryB\", \"CategoryC\", \"CategoryD\"], axis = 1, inplace = True)"
   ]
  },
  {
   "cell_type": "code",
   "execution_count": 20,
   "metadata": {},
   "outputs": [
    {
     "data": {
      "text/html": [
       "<div>\n",
       "<style scoped>\n",
       "    .dataframe tbody tr th:only-of-type {\n",
       "        vertical-align: middle;\n",
       "    }\n",
       "\n",
       "    .dataframe tbody tr th {\n",
       "        vertical-align: top;\n",
       "    }\n",
       "\n",
       "    .dataframe thead th {\n",
       "        text-align: right;\n",
       "    }\n",
       "</style>\n",
       "<table border=\"1\" class=\"dataframe\">\n",
       "  <thead>\n",
       "    <tr style=\"text-align: right;\">\n",
       "      <th></th>\n",
       "      <th>Basket_ID</th>\n",
       "      <th>Date</th>\n",
       "      <th>Barcode</th>\n",
       "      <th>Sum_Units</th>\n",
       "      <th>Sum_Value</th>\n",
       "      <th>Card_ID</th>\n",
       "      <th>Key</th>\n",
       "    </tr>\n",
       "  </thead>\n",
       "  <tbody>\n",
       "    <tr>\n",
       "      <td>0</td>\n",
       "      <td>1103084867</td>\n",
       "      <td>2013-04-15</td>\n",
       "      <td>800220505783</td>\n",
       "      <td>2</td>\n",
       "      <td>1.960000</td>\n",
       "      <td>9160003751260</td>\n",
       "      <td>10142392</td>\n",
       "    </tr>\n",
       "    <tr>\n",
       "      <td>1</td>\n",
       "      <td>1103853519</td>\n",
       "      <td>2013-04-17</td>\n",
       "      <td>520139501183</td>\n",
       "      <td>1</td>\n",
       "      <td>5.349993</td>\n",
       "      <td>9164001986624</td>\n",
       "      <td>10122811</td>\n",
       "    </tr>\n",
       "    <tr>\n",
       "      <td>2</td>\n",
       "      <td>1092750793</td>\n",
       "      <td>2013-03-13</td>\n",
       "      <td>520423907421</td>\n",
       "      <td>6</td>\n",
       "      <td>1.740015</td>\n",
       "      <td>9164012915385</td>\n",
       "      <td>10142392</td>\n",
       "    </tr>\n",
       "  </tbody>\n",
       "</table>\n",
       "</div>"
      ],
      "text/plain": [
       "    Basket_ID       Date       Barcode  Sum_Units  Sum_Value        Card_ID  \\\n",
       "0  1103084867 2013-04-15  800220505783          2   1.960000  9160003751260   \n",
       "1  1103853519 2013-04-17  520139501183          1   5.349993  9164001986624   \n",
       "2  1092750793 2013-03-13  520423907421          6   1.740015  9164012915385   \n",
       "\n",
       "        Key  \n",
       "0  10142392  \n",
       "1  10122811  \n",
       "2  10142392  "
      ]
     },
     "execution_count": 20,
     "metadata": {},
     "output_type": "execute_result"
    }
   ],
   "source": [
    "sales_data.head(3)"
   ]
  },
  {
   "cell_type": "code",
   "execution_count": 21,
   "metadata": {},
   "outputs": [],
   "source": [
    "#export cleaned dataset, to be analyzed using tabley for additional insights.\n",
    "#export_csv = sales_data.to_csv(r'C:\\\\Datasets\\\\Data_cleaned.csv', index = False)"
   ]
  },
  {
   "cell_type": "markdown",
   "metadata": {},
   "source": [
    "# RFM Recency, Frequency and Monetary\n",
    "It is a customer segmentation technique that uses past purchase behavior to divide customers into group. <br>\n",
    "When it comes to finding out who your best customers are, the old RFM matrix principle is the best. <br>\n",
    "RFM stands for Recency (Days since last purchase), Frequency (Total number of purchases) and Monetary (money customer spent).<br>\n",
    "Source: Yexi Yuan(2019) - RFM Model Python: How Sephora uses it to optimize their Google and Facebook Ads. https://towardsdatascience.com/recency-frequency-monetary-model-with-python-and-how-sephora-uses-it-to-optimize-their-google-d6a0707c5f17"
   ]
  },
  {
   "cell_type": "code",
   "execution_count": 22,
   "metadata": {},
   "outputs": [
    {
     "data": {
      "text/html": [
       "<div>\n",
       "<style scoped>\n",
       "    .dataframe tbody tr th:only-of-type {\n",
       "        vertical-align: middle;\n",
       "    }\n",
       "\n",
       "    .dataframe tbody tr th {\n",
       "        vertical-align: top;\n",
       "    }\n",
       "\n",
       "    .dataframe thead th {\n",
       "        text-align: right;\n",
       "    }\n",
       "</style>\n",
       "<table border=\"1\" class=\"dataframe\">\n",
       "  <thead>\n",
       "    <tr style=\"text-align: right;\">\n",
       "      <th></th>\n",
       "      <th>Basket_ID</th>\n",
       "      <th>Date</th>\n",
       "      <th>Barcode</th>\n",
       "      <th>Sum_Units</th>\n",
       "      <th>Sum_Value</th>\n",
       "      <th>Card_ID</th>\n",
       "      <th>Key</th>\n",
       "    </tr>\n",
       "  </thead>\n",
       "  <tbody>\n",
       "    <tr>\n",
       "      <td>0</td>\n",
       "      <td>1103084867</td>\n",
       "      <td>2013-04-15</td>\n",
       "      <td>800220505783</td>\n",
       "      <td>2</td>\n",
       "      <td>1.960000</td>\n",
       "      <td>9160003751260</td>\n",
       "      <td>10142392</td>\n",
       "    </tr>\n",
       "    <tr>\n",
       "      <td>1</td>\n",
       "      <td>1103853519</td>\n",
       "      <td>2013-04-17</td>\n",
       "      <td>520139501183</td>\n",
       "      <td>1</td>\n",
       "      <td>5.349993</td>\n",
       "      <td>9164001986624</td>\n",
       "      <td>10122811</td>\n",
       "    </tr>\n",
       "    <tr>\n",
       "      <td>2</td>\n",
       "      <td>1092750793</td>\n",
       "      <td>2013-03-13</td>\n",
       "      <td>520423907421</td>\n",
       "      <td>6</td>\n",
       "      <td>1.740015</td>\n",
       "      <td>9164012915385</td>\n",
       "      <td>10142392</td>\n",
       "    </tr>\n",
       "  </tbody>\n",
       "</table>\n",
       "</div>"
      ],
      "text/plain": [
       "    Basket_ID       Date       Barcode  Sum_Units  Sum_Value        Card_ID  \\\n",
       "0  1103084867 2013-04-15  800220505783          2   1.960000  9160003751260   \n",
       "1  1103853519 2013-04-17  520139501183          1   5.349993  9164001986624   \n",
       "2  1092750793 2013-03-13  520423907421          6   1.740015  9164012915385   \n",
       "\n",
       "        Key  \n",
       "0  10142392  \n",
       "1  10122811  \n",
       "2  10142392  "
      ]
     },
     "execution_count": 22,
     "metadata": {},
     "output_type": "execute_result"
    }
   ],
   "source": [
    "#for this part of the analysis, we will filter only sales records with a valid customer ID \"eg: Card_ID\"\n",
    "sales_customer_df = sales_data.loc[(sales_data['Card_ID'] != \"nan\")].copy()\n",
    "sales_customer_df.head(3)"
   ]
  },
  {
   "cell_type": "code",
   "execution_count": 23,
   "metadata": {},
   "outputs": [
    {
     "name": "stdout",
     "output_type": "stream",
     "text": [
      "sales_customer_df with Valid Customer ID has:  147098 records\n"
     ]
    }
   ],
   "source": [
    "print(\"sales_customer_df with Valid Customer ID has: \",sales_customer_df.shape[0], \"records\")"
   ]
  },
  {
   "cell_type": "code",
   "execution_count": 24,
   "metadata": {},
   "outputs": [],
   "source": [
    "from datetime import timedelta\n",
    "import matplotlib.pyplot as plt\n",
    "import seaborn as sns"
   ]
  },
  {
   "cell_type": "code",
   "execution_count": 25,
   "metadata": {},
   "outputs": [
    {
     "data": {
      "text/plain": [
       "Timestamp('2013-05-03 00:00:00')"
      ]
     },
     "execution_count": 25,
     "metadata": {},
     "output_type": "execute_result"
    }
   ],
   "source": [
    "# Create variable to hold lastest sale made in DF in order to date to calculate days since last purchase individually. \n",
    "latest_sales_date = sales_customer_df['Date'].max() + timedelta(days=1)\n",
    "latest_sales_date"
   ]
  },
  {
   "cell_type": "code",
   "execution_count": 26,
   "metadata": {},
   "outputs": [
    {
     "data": {
      "text/html": [
       "<div>\n",
       "<style scoped>\n",
       "    .dataframe tbody tr th:only-of-type {\n",
       "        vertical-align: middle;\n",
       "    }\n",
       "\n",
       "    .dataframe tbody tr th {\n",
       "        vertical-align: top;\n",
       "    }\n",
       "\n",
       "    .dataframe thead th {\n",
       "        text-align: right;\n",
       "    }\n",
       "</style>\n",
       "<table border=\"1\" class=\"dataframe\">\n",
       "  <thead>\n",
       "    <tr style=\"text-align: right;\">\n",
       "      <th></th>\n",
       "      <th>Date</th>\n",
       "      <th>Basket_ID</th>\n",
       "      <th>Sum_Value</th>\n",
       "    </tr>\n",
       "    <tr>\n",
       "      <th>Card_ID</th>\n",
       "      <th></th>\n",
       "      <th></th>\n",
       "      <th></th>\n",
       "    </tr>\n",
       "  </thead>\n",
       "  <tbody>\n",
       "    <tr>\n",
       "      <td>9160000047700</td>\n",
       "      <td>2</td>\n",
       "      <td>6</td>\n",
       "      <td>171.080323</td>\n",
       "    </tr>\n",
       "    <tr>\n",
       "      <td>9160000072177</td>\n",
       "      <td>1</td>\n",
       "      <td>2</td>\n",
       "      <td>135.802819</td>\n",
       "    </tr>\n",
       "    <tr>\n",
       "      <td>9160000108180</td>\n",
       "      <td>7</td>\n",
       "      <td>1</td>\n",
       "      <td>73.947205</td>\n",
       "    </tr>\n",
       "  </tbody>\n",
       "</table>\n",
       "</div>"
      ],
      "text/plain": [
       "               Date  Basket_ID   Sum_Value\n",
       "Card_ID                                   \n",
       "9160000047700     2          6  171.080323\n",
       "9160000072177     1          2  135.802819\n",
       "9160000108180     7          1   73.947205"
      ]
     },
     "execution_count": 26,
     "metadata": {},
     "output_type": "execute_result"
    }
   ],
   "source": [
    "# Grouping sale data by CustomerID to evalue RFM\n",
    "sales_by_card = sales_customer_df.groupby(['Card_ID']).agg({\n",
    "                                                           'Date': lambda x: (latest_sales_date - x.max()).days,\n",
    "                                                           'Basket_ID': 'nunique',\n",
    "                                                           'Sum_Value': 'sum'})\n",
    "sales_by_card.head(3)"
   ]
  },
  {
   "cell_type": "code",
   "execution_count": 27,
   "metadata": {},
   "outputs": [
    {
     "data": {
      "text/html": [
       "<div>\n",
       "<style scoped>\n",
       "    .dataframe tbody tr th:only-of-type {\n",
       "        vertical-align: middle;\n",
       "    }\n",
       "\n",
       "    .dataframe tbody tr th {\n",
       "        vertical-align: top;\n",
       "    }\n",
       "\n",
       "    .dataframe thead th {\n",
       "        text-align: right;\n",
       "    }\n",
       "</style>\n",
       "<table border=\"1\" class=\"dataframe\">\n",
       "  <thead>\n",
       "    <tr style=\"text-align: right;\">\n",
       "      <th></th>\n",
       "      <th>Recency</th>\n",
       "      <th>Frequency</th>\n",
       "      <th>MonetaryValue</th>\n",
       "    </tr>\n",
       "    <tr>\n",
       "      <th>Card_ID</th>\n",
       "      <th></th>\n",
       "      <th></th>\n",
       "      <th></th>\n",
       "    </tr>\n",
       "  </thead>\n",
       "  <tbody>\n",
       "    <tr>\n",
       "      <td>9160000047700</td>\n",
       "      <td>2</td>\n",
       "      <td>6</td>\n",
       "      <td>171.080323</td>\n",
       "    </tr>\n",
       "    <tr>\n",
       "      <td>9160000072177</td>\n",
       "      <td>1</td>\n",
       "      <td>2</td>\n",
       "      <td>135.802819</td>\n",
       "    </tr>\n",
       "    <tr>\n",
       "      <td>9160000108180</td>\n",
       "      <td>7</td>\n",
       "      <td>1</td>\n",
       "      <td>73.947205</td>\n",
       "    </tr>\n",
       "  </tbody>\n",
       "</table>\n",
       "</div>"
      ],
      "text/plain": [
       "               Recency  Frequency  MonetaryValue\n",
       "Card_ID                                         \n",
       "9160000047700        2          6     171.080323\n",
       "9160000072177        1          2     135.802819\n",
       "9160000108180        7          1      73.947205"
      ]
     },
     "execution_count": 27,
     "metadata": {},
     "output_type": "execute_result"
    }
   ],
   "source": [
    "# renaming the columns, as desider RFM output and copy/past of aggregated values\n",
    "sales_by_card.rename(columns={'Date': 'Recency',\n",
    "                             'Basket_ID': 'Frequency',\n",
    "                             'Sum_Value': 'MonetaryValue'}, inplace=True)\n",
    "sales_by_card.head(3)"
   ]
  },
  {
   "cell_type": "code",
   "execution_count": 28,
   "metadata": {},
   "outputs": [],
   "source": [
    "# copy df to make sure aggregating values are ketp\n",
    "sales_by_card = sales_by_card.copy()"
   ]
  },
  {
   "cell_type": "code",
   "execution_count": 29,
   "metadata": {},
   "outputs": [
    {
     "name": "stdout",
     "output_type": "stream",
     "text": [
      "               Recency  Frequency  MonetaryValue\n",
      "Card_ID                                         \n",
      "9160000047700        2          6     171.080323\n",
      "9160000072177        1          2     135.802819\n",
      "9160000108180        7          1      73.947205\n",
      "9160000137227       32          4     126.920410\n",
      "9160000168443        2          4      34.611240\n",
      "4,399 rows; 3 columns\n"
     ]
    }
   ],
   "source": [
    "# check top 5 rows and shape of dataframe\n",
    "print(sales_by_card.head())\n",
    "print('{:,} rows; {:,} columns'\n",
    "      .format(sales_by_card.shape[0], sales_by_card.shape[1]))"
   ]
  },
  {
   "cell_type": "code",
   "execution_count": 30,
   "metadata": {},
   "outputs": [
    {
     "data": {
      "text/plain": [
       "<matplotlib.axes._subplots.AxesSubplot at 0x21434b49508>"
      ]
     },
     "execution_count": 30,
     "metadata": {},
     "output_type": "execute_result"
    },
    {
     "data": {
      "image/png": "[encoded data removed]",
      "text/plain": [
       "<Figure size 1080x216 with 1 Axes>"
      ]
     },
     "metadata": {
      "needs_background": "light"
     },
     "output_type": "display_data"
    }
   ],
   "source": [
    "# Plot distribution of Recency\n",
    "plt.figure(figsize=(15,3))\n",
    "sns.distplot(sales_by_card['Recency'])"
   ]
  },
  {
   "cell_type": "code",
   "execution_count": 31,
   "metadata": {},
   "outputs": [
    {
     "data": {
      "text/plain": [
       "<matplotlib.axes._subplots.AxesSubplot at 0x21434c50708>"
      ]
     },
     "execution_count": 31,
     "metadata": {},
     "output_type": "execute_result"
    },
    {
     "data": {
      "image/png": "[encoded data removed]",
      "text/plain": [
       "<Figure size 1080x216 with 1 Axes>"
      ]
     },
     "metadata": {
      "needs_background": "light"
     },
     "output_type": "display_data"
    }
   ],
   "source": [
    "# Plot distribution of Frequency\n",
    "plt.figure(figsize=(15,3))\n",
    "sns.distplot(sales_by_card['Frequency'])"
   ]
  },
  {
   "cell_type": "code",
   "execution_count": 32,
   "metadata": {},
   "outputs": [
    {
     "data": {
      "text/plain": [
       "<matplotlib.axes._subplots.AxesSubplot at 0x21434d54748>"
      ]
     },
     "execution_count": 32,
     "metadata": {},
     "output_type": "execute_result"
    },
    {
     "data": {
      "image/png": "[encoded data removed]",
      "text/plain": [
       "<Figure size 1080x216 with 1 Axes>"
      ]
     },
     "metadata": {
      "needs_background": "light"
     },
     "output_type": "display_data"
    }
   ],
   "source": [
    "# Plot distribution of Monetary value\n",
    "plt.figure(figsize=(15,3))\n",
    "sns.distplot(sales_by_card['MonetaryValue'])"
   ]
  },
  {
   "cell_type": "markdown",
   "metadata": {},
   "source": [
    "Visual analysis identidied data skewed to the right. Now, using the .qcut() function, relative values from 1 to 4 will be assigned accordinly to the dataset quartile for each variable (R, F, M)."
   ]
  },
  {
   "cell_type": "code",
   "execution_count": 33,
   "metadata": {},
   "outputs": [
    {
     "data": {
      "text/plain": [
       "Recency            int64\n",
       "Frequency          int64\n",
       "MonetaryValue    float64\n",
       "dtype: object"
      ]
     },
     "execution_count": 33,
     "metadata": {},
     "output_type": "execute_result"
    }
   ],
   "source": [
    "#checking data frame format types\n",
    "sales_by_card.dtypes"
   ]
  },
  {
   "cell_type": "code",
   "execution_count": 34,
   "metadata": {},
   "outputs": [
    {
     "data": {
      "text/html": [
       "<div>\n",
       "<style scoped>\n",
       "    .dataframe tbody tr th:only-of-type {\n",
       "        vertical-align: middle;\n",
       "    }\n",
       "\n",
       "    .dataframe tbody tr th {\n",
       "        vertical-align: top;\n",
       "    }\n",
       "\n",
       "    .dataframe thead th {\n",
       "        text-align: right;\n",
       "    }\n",
       "</style>\n",
       "<table border=\"1\" class=\"dataframe\">\n",
       "  <thead>\n",
       "    <tr style=\"text-align: right;\">\n",
       "      <th></th>\n",
       "      <th>Recency</th>\n",
       "      <th>Frequency</th>\n",
       "      <th>MonetaryValue</th>\n",
       "    </tr>\n",
       "  </thead>\n",
       "  <tbody>\n",
       "    <tr>\n",
       "      <td>count</td>\n",
       "      <td>4399.000000</td>\n",
       "      <td>4399.000000</td>\n",
       "      <td>4399.000000</td>\n",
       "    </tr>\n",
       "    <tr>\n",
       "      <td>mean</td>\n",
       "      <td>17.398045</td>\n",
       "      <td>5.283701</td>\n",
       "      <td>80.261585</td>\n",
       "    </tr>\n",
       "    <tr>\n",
       "      <td>std</td>\n",
       "      <td>16.550555</td>\n",
       "      <td>6.816205</td>\n",
       "      <td>97.506844</td>\n",
       "    </tr>\n",
       "    <tr>\n",
       "      <td>min</td>\n",
       "      <td>1.000000</td>\n",
       "      <td>1.000000</td>\n",
       "      <td>0.640000</td>\n",
       "    </tr>\n",
       "    <tr>\n",
       "      <td>25%</td>\n",
       "      <td>3.000000</td>\n",
       "      <td>1.000000</td>\n",
       "      <td>18.355833</td>\n",
       "    </tr>\n",
       "    <tr>\n",
       "      <td>50%</td>\n",
       "      <td>11.000000</td>\n",
       "      <td>3.000000</td>\n",
       "      <td>43.890801</td>\n",
       "    </tr>\n",
       "    <tr>\n",
       "      <td>75%</td>\n",
       "      <td>28.000000</td>\n",
       "      <td>7.000000</td>\n",
       "      <td>105.436816</td>\n",
       "    </tr>\n",
       "    <tr>\n",
       "      <td>max</td>\n",
       "      <td>60.000000</td>\n",
       "      <td>76.000000</td>\n",
       "      <td>1006.146150</td>\n",
       "    </tr>\n",
       "  </tbody>\n",
       "</table>\n",
       "</div>"
      ],
      "text/plain": [
       "           Recency    Frequency  MonetaryValue\n",
       "count  4399.000000  4399.000000    4399.000000\n",
       "mean     17.398045     5.283701      80.261585\n",
       "std      16.550555     6.816205      97.506844\n",
       "min       1.000000     1.000000       0.640000\n",
       "25%       3.000000     1.000000      18.355833\n",
       "50%      11.000000     3.000000      43.890801\n",
       "75%      28.000000     7.000000     105.436816\n",
       "max      60.000000    76.000000    1006.146150"
      ]
     },
     "execution_count": 34,
     "metadata": {},
     "output_type": "execute_result"
    }
   ],
   "source": [
    "#let review df general stats to detect any potential outlier\n",
    "sales_by_card.describe()"
   ]
  },
  {
   "cell_type": "code",
   "execution_count": 35,
   "metadata": {},
   "outputs": [],
   "source": [
    "#creating labels for Recency, Frequency and Monetary\n",
    "r_labels = range(4, 0, -1); f_labels = range(1, 5); m_labels = range(1, 5)"
   ]
  },
  {
   "cell_type": "code",
   "execution_count": 36,
   "metadata": {},
   "outputs": [],
   "source": [
    "#for each RFM value in df, assign value in the labels, respetive to 4 equal percentile groups\n",
    "r_groups = pd.qcut(sales_by_card['Recency'], q=4, labels=r_labels)\n",
    "f_groups = pd.qcut(sales_by_card['Frequency'].rank(method='first'), q=4, labels=f_labels)\n",
    "m_groups = pd.qcut(sales_by_card['MonetaryValue'], q=4, labels=m_labels)"
   ]
  },
  {
   "cell_type": "code",
   "execution_count": 37,
   "metadata": {},
   "outputs": [
    {
     "data": {
      "text/html": [
       "<div>\n",
       "<style scoped>\n",
       "    .dataframe tbody tr th:only-of-type {\n",
       "        vertical-align: middle;\n",
       "    }\n",
       "\n",
       "    .dataframe tbody tr th {\n",
       "        vertical-align: top;\n",
       "    }\n",
       "\n",
       "    .dataframe thead th {\n",
       "        text-align: right;\n",
       "    }\n",
       "</style>\n",
       "<table border=\"1\" class=\"dataframe\">\n",
       "  <thead>\n",
       "    <tr style=\"text-align: right;\">\n",
       "      <th></th>\n",
       "      <th>Recency</th>\n",
       "      <th>Frequency</th>\n",
       "      <th>MonetaryValue</th>\n",
       "      <th>R</th>\n",
       "      <th>F</th>\n",
       "      <th>M</th>\n",
       "    </tr>\n",
       "    <tr>\n",
       "      <th>Card_ID</th>\n",
       "      <th></th>\n",
       "      <th></th>\n",
       "      <th></th>\n",
       "      <th></th>\n",
       "      <th></th>\n",
       "      <th></th>\n",
       "    </tr>\n",
       "  </thead>\n",
       "  <tbody>\n",
       "    <tr>\n",
       "      <td>9160000047700</td>\n",
       "      <td>2</td>\n",
       "      <td>6</td>\n",
       "      <td>171.080323</td>\n",
       "      <td>4</td>\n",
       "      <td>3</td>\n",
       "      <td>4</td>\n",
       "    </tr>\n",
       "    <tr>\n",
       "      <td>9160000072177</td>\n",
       "      <td>1</td>\n",
       "      <td>2</td>\n",
       "      <td>135.802819</td>\n",
       "      <td>4</td>\n",
       "      <td>2</td>\n",
       "      <td>4</td>\n",
       "    </tr>\n",
       "    <tr>\n",
       "      <td>9160000108180</td>\n",
       "      <td>7</td>\n",
       "      <td>1</td>\n",
       "      <td>73.947205</td>\n",
       "      <td>3</td>\n",
       "      <td>1</td>\n",
       "      <td>3</td>\n",
       "    </tr>\n",
       "  </tbody>\n",
       "</table>\n",
       "</div>"
      ],
      "text/plain": [
       "               Recency  Frequency  MonetaryValue  R  F  M\n",
       "Card_ID                                                  \n",
       "9160000047700        2          6     171.080323  4  3  4\n",
       "9160000072177        1          2     135.802819  4  2  4\n",
       "9160000108180        7          1      73.947205  3  1  3"
      ]
     },
     "execution_count": 37,
     "metadata": {},
     "output_type": "execute_result"
    }
   ],
   "source": [
    "# Create new columns R, F and M into df\n",
    "sales_by_card = sales_by_card.assign(R = r_groups.values, F = f_groups.values, M = m_groups.values)\n",
    "sales_by_card.head(3)"
   ]
  },
  {
   "cell_type": "code",
   "execution_count": 38,
   "metadata": {},
   "outputs": [
    {
     "data": {
      "text/html": [
       "<div>\n",
       "<style scoped>\n",
       "    .dataframe tbody tr th:only-of-type {\n",
       "        vertical-align: middle;\n",
       "    }\n",
       "\n",
       "    .dataframe tbody tr th {\n",
       "        vertical-align: top;\n",
       "    }\n",
       "\n",
       "    .dataframe thead th {\n",
       "        text-align: right;\n",
       "    }\n",
       "</style>\n",
       "<table border=\"1\" class=\"dataframe\">\n",
       "  <thead>\n",
       "    <tr style=\"text-align: right;\">\n",
       "      <th></th>\n",
       "      <th>Recency</th>\n",
       "      <th>Frequency</th>\n",
       "      <th>MonetaryValue</th>\n",
       "      <th>R</th>\n",
       "      <th>F</th>\n",
       "      <th>M</th>\n",
       "      <th>RFM</th>\n",
       "    </tr>\n",
       "    <tr>\n",
       "      <th>Card_ID</th>\n",
       "      <th></th>\n",
       "      <th></th>\n",
       "      <th></th>\n",
       "      <th></th>\n",
       "      <th></th>\n",
       "      <th></th>\n",
       "      <th></th>\n",
       "    </tr>\n",
       "  </thead>\n",
       "  <tbody>\n",
       "    <tr>\n",
       "      <td>9160000047700</td>\n",
       "      <td>2</td>\n",
       "      <td>6</td>\n",
       "      <td>171.080323</td>\n",
       "      <td>4</td>\n",
       "      <td>4</td>\n",
       "      <td>4</td>\n",
       "      <td>444</td>\n",
       "    </tr>\n",
       "    <tr>\n",
       "      <td>9160000072177</td>\n",
       "      <td>1</td>\n",
       "      <td>2</td>\n",
       "      <td>135.802819</td>\n",
       "      <td>4</td>\n",
       "      <td>4</td>\n",
       "      <td>4</td>\n",
       "      <td>444</td>\n",
       "    </tr>\n",
       "    <tr>\n",
       "      <td>9160000108180</td>\n",
       "      <td>7</td>\n",
       "      <td>1</td>\n",
       "      <td>73.947205</td>\n",
       "      <td>3</td>\n",
       "      <td>3</td>\n",
       "      <td>3</td>\n",
       "      <td>333</td>\n",
       "    </tr>\n",
       "  </tbody>\n",
       "</table>\n",
       "</div>"
      ],
      "text/plain": [
       "               Recency  Frequency  MonetaryValue  R  F  M  RFM\n",
       "Card_ID                                                       \n",
       "9160000047700        2          6     171.080323  4  4  4  444\n",
       "9160000072177        1          2     135.802819  4  4  4  444\n",
       "9160000108180        7          1      73.947205  3  3  3  333"
      ]
     },
     "execution_count": 38,
     "metadata": {},
     "output_type": "execute_result"
    }
   ],
   "source": [
    "#convert RFM values to string and then concatenate RFM values\n",
    "sales_by_card.R = sales_by_card.R.astype(str)\n",
    "sales_by_card.F = sales_by_card.F.astype(str)\n",
    "sales_by_card.F = sales_by_card.M.astype(str)\n",
    "sales_by_card[\"RFM\"] = sales_by_card.R+sales_by_card.F+sales_by_card.F\n",
    "rfm_df = sales_by_card.copy()\n",
    "rfm_df.head(3)"
   ]
  },
  {
   "cell_type": "code",
   "execution_count": 39,
   "metadata": {},
   "outputs": [
    {
     "name": "stdout",
     "output_type": "stream",
     "text": [
      "# of unique identified segments: 16\n",
      "which stills high for segmentation, therefore we will try another industry approach, by summing RFM\n"
     ]
    }
   ],
   "source": [
    "# Count number of unique identified segments\n",
    "rfm_count_unique = rfm_df.groupby('RFM')['RFM'].count()\n",
    "print(\"# of unique identified segments:\", rfm_count_unique.count())\n",
    "print(\"which stills high for segmentation, therefore we will try another industry approach, by summing RFM\")"
   ]
  },
  {
   "cell_type": "code",
   "execution_count": 40,
   "metadata": {},
   "outputs": [
    {
     "data": {
      "text/html": [
       "<div>\n",
       "<style scoped>\n",
       "    .dataframe tbody tr th:only-of-type {\n",
       "        vertical-align: middle;\n",
       "    }\n",
       "\n",
       "    .dataframe tbody tr th {\n",
       "        vertical-align: top;\n",
       "    }\n",
       "\n",
       "    .dataframe thead th {\n",
       "        text-align: right;\n",
       "    }\n",
       "</style>\n",
       "<table border=\"1\" class=\"dataframe\">\n",
       "  <thead>\n",
       "    <tr style=\"text-align: right;\">\n",
       "      <th></th>\n",
       "      <th>Recency</th>\n",
       "      <th>Frequency</th>\n",
       "      <th>MonetaryValue</th>\n",
       "      <th>R</th>\n",
       "      <th>F</th>\n",
       "      <th>M</th>\n",
       "      <th>RFM</th>\n",
       "      <th>RFM_Sum</th>\n",
       "    </tr>\n",
       "    <tr>\n",
       "      <th>Card_ID</th>\n",
       "      <th></th>\n",
       "      <th></th>\n",
       "      <th></th>\n",
       "      <th></th>\n",
       "      <th></th>\n",
       "      <th></th>\n",
       "      <th></th>\n",
       "      <th></th>\n",
       "    </tr>\n",
       "  </thead>\n",
       "  <tbody>\n",
       "    <tr>\n",
       "      <td>9160000047700</td>\n",
       "      <td>2</td>\n",
       "      <td>6</td>\n",
       "      <td>171.080323</td>\n",
       "      <td>4</td>\n",
       "      <td>4</td>\n",
       "      <td>4</td>\n",
       "      <td>444</td>\n",
       "      <td>12</td>\n",
       "    </tr>\n",
       "    <tr>\n",
       "      <td>9160000072177</td>\n",
       "      <td>1</td>\n",
       "      <td>2</td>\n",
       "      <td>135.802819</td>\n",
       "      <td>4</td>\n",
       "      <td>4</td>\n",
       "      <td>4</td>\n",
       "      <td>444</td>\n",
       "      <td>12</td>\n",
       "    </tr>\n",
       "    <tr>\n",
       "      <td>9160000108180</td>\n",
       "      <td>7</td>\n",
       "      <td>1</td>\n",
       "      <td>73.947205</td>\n",
       "      <td>3</td>\n",
       "      <td>3</td>\n",
       "      <td>3</td>\n",
       "      <td>333</td>\n",
       "      <td>9</td>\n",
       "    </tr>\n",
       "  </tbody>\n",
       "</table>\n",
       "</div>"
      ],
      "text/plain": [
       "               Recency  Frequency  MonetaryValue  R  F  M  RFM  RFM_Sum\n",
       "Card_ID                                                                \n",
       "9160000047700        2          6     171.080323  4  4  4  444       12\n",
       "9160000072177        1          2     135.802819  4  4  4  444       12\n",
       "9160000108180        7          1      73.947205  3  3  3  333        9"
      ]
     },
     "execution_count": 40,
     "metadata": {},
     "output_type": "execute_result"
    }
   ],
   "source": [
    "# Summing RFM_Score, need to convert previous concatenated values to Integer and than Sum()\n",
    "rfm_df.R = rfm_df.R.astype(int)\n",
    "rfm_df.F = rfm_df.F.astype(int)\n",
    "rfm_df.M = rfm_df.M.astype(int)\n",
    "rfm_df[\"RFM_Sum\"] = rfm_df.R + rfm_df.F + rfm_df.M\n",
    "rfm_df.head(3)"
   ]
  },
  {
   "cell_type": "code",
   "execution_count": 41,
   "metadata": {},
   "outputs": [],
   "source": [
    "#create python function to assign a Segment based on customer RFM sum score. Segment names based on industry standarts.\n",
    "def rfm_segment(df):\n",
    "    if df['RFM_Sum'] >= 9:\n",
    "        return 'Can\\'t Loose Them'\n",
    "    elif ((df['RFM_Sum'] >= 8) and (df['RFM_Sum'] < 9)):\n",
    "        return 'Champions'\n",
    "    elif ((df['RFM_Sum'] >= 7) and (df['RFM_Sum'] < 8)):\n",
    "        return 'Loyal'\n",
    "    elif ((df['RFM_Sum'] >= 6) and (df['RFM_Sum'] < 7)):\n",
    "        return 'Potential'\n",
    "    elif ((df['RFM_Sum'] >= 5) and (df['RFM_Sum'] < 6)):\n",
    "        return 'Promising'\n",
    "    elif ((df['RFM_Sum'] >= 4) and (df['RFM_Sum'] < 5)):\n",
    "        return 'Needs Attention'\n",
    "    else:\n",
    "        return 'Require Activation'"
   ]
  },
  {
   "cell_type": "code",
   "execution_count": 42,
   "metadata": {},
   "outputs": [
    {
     "data": {
      "text/html": [
       "<div>\n",
       "<style scoped>\n",
       "    .dataframe tbody tr th:only-of-type {\n",
       "        vertical-align: middle;\n",
       "    }\n",
       "\n",
       "    .dataframe tbody tr th {\n",
       "        vertical-align: top;\n",
       "    }\n",
       "\n",
       "    .dataframe thead th {\n",
       "        text-align: right;\n",
       "    }\n",
       "</style>\n",
       "<table border=\"1\" class=\"dataframe\">\n",
       "  <thead>\n",
       "    <tr style=\"text-align: right;\">\n",
       "      <th></th>\n",
       "      <th>Recency</th>\n",
       "      <th>Frequency</th>\n",
       "      <th>MonetaryValue</th>\n",
       "      <th>R</th>\n",
       "      <th>F</th>\n",
       "      <th>M</th>\n",
       "      <th>RFM</th>\n",
       "      <th>RFM_Sum</th>\n",
       "      <th>RFM_Segment</th>\n",
       "    </tr>\n",
       "    <tr>\n",
       "      <th>Card_ID</th>\n",
       "      <th></th>\n",
       "      <th></th>\n",
       "      <th></th>\n",
       "      <th></th>\n",
       "      <th></th>\n",
       "      <th></th>\n",
       "      <th></th>\n",
       "      <th></th>\n",
       "      <th></th>\n",
       "    </tr>\n",
       "  </thead>\n",
       "  <tbody>\n",
       "    <tr>\n",
       "      <td>9160000047700</td>\n",
       "      <td>2</td>\n",
       "      <td>6</td>\n",
       "      <td>171.080323</td>\n",
       "      <td>4</td>\n",
       "      <td>4</td>\n",
       "      <td>4</td>\n",
       "      <td>444</td>\n",
       "      <td>12</td>\n",
       "      <td>Can't Loose Them</td>\n",
       "    </tr>\n",
       "    <tr>\n",
       "      <td>9160000072177</td>\n",
       "      <td>1</td>\n",
       "      <td>2</td>\n",
       "      <td>135.802819</td>\n",
       "      <td>4</td>\n",
       "      <td>4</td>\n",
       "      <td>4</td>\n",
       "      <td>444</td>\n",
       "      <td>12</td>\n",
       "      <td>Can't Loose Them</td>\n",
       "    </tr>\n",
       "    <tr>\n",
       "      <td>9160000108180</td>\n",
       "      <td>7</td>\n",
       "      <td>1</td>\n",
       "      <td>73.947205</td>\n",
       "      <td>3</td>\n",
       "      <td>3</td>\n",
       "      <td>3</td>\n",
       "      <td>333</td>\n",
       "      <td>9</td>\n",
       "      <td>Can't Loose Them</td>\n",
       "    </tr>\n",
       "    <tr>\n",
       "      <td>9160000137227</td>\n",
       "      <td>32</td>\n",
       "      <td>4</td>\n",
       "      <td>126.920410</td>\n",
       "      <td>1</td>\n",
       "      <td>4</td>\n",
       "      <td>4</td>\n",
       "      <td>144</td>\n",
       "      <td>9</td>\n",
       "      <td>Can't Loose Them</td>\n",
       "    </tr>\n",
       "    <tr>\n",
       "      <td>9160000168443</td>\n",
       "      <td>2</td>\n",
       "      <td>4</td>\n",
       "      <td>34.611240</td>\n",
       "      <td>4</td>\n",
       "      <td>2</td>\n",
       "      <td>2</td>\n",
       "      <td>422</td>\n",
       "      <td>8</td>\n",
       "      <td>Champions</td>\n",
       "    </tr>\n",
       "  </tbody>\n",
       "</table>\n",
       "</div>"
      ],
      "text/plain": [
       "               Recency  Frequency  MonetaryValue  R  F  M  RFM  RFM_Sum  \\\n",
       "Card_ID                                                                   \n",
       "9160000047700        2          6     171.080323  4  4  4  444       12   \n",
       "9160000072177        1          2     135.802819  4  4  4  444       12   \n",
       "9160000108180        7          1      73.947205  3  3  3  333        9   \n",
       "9160000137227       32          4     126.920410  1  4  4  144        9   \n",
       "9160000168443        2          4      34.611240  4  2  2  422        8   \n",
       "\n",
       "                    RFM_Segment  \n",
       "Card_ID                          \n",
       "9160000047700  Can't Loose Them  \n",
       "9160000072177  Can't Loose Them  \n",
       "9160000108180  Can't Loose Them  \n",
       "9160000137227  Can't Loose Them  \n",
       "9160000168443         Champions  "
      ]
     },
     "execution_count": 42,
     "metadata": {},
     "output_type": "execute_result"
    }
   ],
   "source": [
    "# Create a new variable RFM_Level\n",
    "rfm_df['RFM_Segment'] = rfm_df.apply(rfm_segment, axis=1)\n",
    "rfm_df.head()"
   ]
  },
  {
   "cell_type": "code",
   "execution_count": 43,
   "metadata": {},
   "outputs": [],
   "source": [
    "#grouping customers and calculating average values for each RFM_Level, to than return the size of each segment \n",
    "rfm_segments_df = rfm_df.groupby('RFM_Segment').agg({\n",
    "                                                    'Recency': 'mean',\n",
    "                                                    'Frequency': 'mean',\n",
    "                                                    'MonetaryValue': ['mean', 'count']}).round(1)"
   ]
  },
  {
   "cell_type": "code",
   "execution_count": 44,
   "metadata": {},
   "outputs": [
    {
     "data": {
      "text/html": [
       "<div>\n",
       "<style scoped>\n",
       "    .dataframe tbody tr th:only-of-type {\n",
       "        vertical-align: middle;\n",
       "    }\n",
       "\n",
       "    .dataframe tbody tr th {\n",
       "        vertical-align: top;\n",
       "    }\n",
       "\n",
       "    .dataframe thead tr th {\n",
       "        text-align: left;\n",
       "    }\n",
       "\n",
       "    .dataframe thead tr:last-of-type th {\n",
       "        text-align: right;\n",
       "    }\n",
       "</style>\n",
       "<table border=\"1\" class=\"dataframe\">\n",
       "  <thead>\n",
       "    <tr>\n",
       "      <th></th>\n",
       "      <th>Recency</th>\n",
       "      <th>Frequency</th>\n",
       "      <th colspan=\"2\" halign=\"left\">MonetaryValue</th>\n",
       "    </tr>\n",
       "    <tr>\n",
       "      <th></th>\n",
       "      <th>mean</th>\n",
       "      <th>mean</th>\n",
       "      <th>mean</th>\n",
       "      <th>count</th>\n",
       "    </tr>\n",
       "    <tr>\n",
       "      <th>RFM_Segment</th>\n",
       "      <th></th>\n",
       "      <th></th>\n",
       "      <th></th>\n",
       "      <th></th>\n",
       "    </tr>\n",
       "  </thead>\n",
       "  <tbody>\n",
       "    <tr>\n",
       "      <td>Can't Loose Them</td>\n",
       "      <td>5.2</td>\n",
       "      <td>10.4</td>\n",
       "      <td>160.9</td>\n",
       "      <td>1730</td>\n",
       "    </tr>\n",
       "    <tr>\n",
       "      <td>Champions</td>\n",
       "      <td>13.7</td>\n",
       "      <td>3.5</td>\n",
       "      <td>56.5</td>\n",
       "      <td>459</td>\n",
       "    </tr>\n",
       "    <tr>\n",
       "      <td>Loyal</td>\n",
       "      <td>20.5</td>\n",
       "      <td>2.6</td>\n",
       "      <td>43.9</td>\n",
       "      <td>379</td>\n",
       "    </tr>\n",
       "    <tr>\n",
       "      <td>Needs Attention</td>\n",
       "      <td>19.5</td>\n",
       "      <td>1.3</td>\n",
       "      <td>10.3</td>\n",
       "      <td>357</td>\n",
       "    </tr>\n",
       "    <tr>\n",
       "      <td>Potential</td>\n",
       "      <td>16.3</td>\n",
       "      <td>2.0</td>\n",
       "      <td>26.1</td>\n",
       "      <td>435</td>\n",
       "    </tr>\n",
       "    <tr>\n",
       "      <td>Promising</td>\n",
       "      <td>32.0</td>\n",
       "      <td>1.4</td>\n",
       "      <td>22.7</td>\n",
       "      <td>551</td>\n",
       "    </tr>\n",
       "    <tr>\n",
       "      <td>Require Activation</td>\n",
       "      <td>44.6</td>\n",
       "      <td>1.1</td>\n",
       "      <td>9.6</td>\n",
       "      <td>488</td>\n",
       "    </tr>\n",
       "  </tbody>\n",
       "</table>\n",
       "</div>"
      ],
      "text/plain": [
       "                   Recency Frequency MonetaryValue      \n",
       "                      mean      mean          mean count\n",
       "RFM_Segment                                             \n",
       "Can't Loose Them       5.2      10.4         160.9  1730\n",
       "Champions             13.7       3.5          56.5   459\n",
       "Loyal                 20.5       2.6          43.9   379\n",
       "Needs Attention       19.5       1.3          10.3   357\n",
       "Potential             16.3       2.0          26.1   435\n",
       "Promising             32.0       1.4          22.7   551\n",
       "Require Activation    44.6       1.1           9.6   488"
      ]
     },
     "execution_count": 44,
     "metadata": {},
     "output_type": "execute_result"
    }
   ],
   "source": [
    "#table to summarize and depict out customer segmentation based on RFM summing values. Total of 4.399 customers \"count\"\n",
    "rfm_segments_df"
   ]
  },
  {
   "cell_type": "code",
   "execution_count": 45,
   "metadata": {},
   "outputs": [],
   "source": [
    "#to conclude, lets visualize this results into a Tree Map, with the support on squarify lib\n",
    "import squarify"
   ]
  },
  {
   "cell_type": "code",
   "execution_count": 46,
   "metadata": {},
   "outputs": [],
   "source": [
    "#organize and rename colums\n",
    "rfm_segments_df.columns = rfm_segments_df.columns.droplevel()\n",
    "rfm_segments_df.columns = ['RecencyMean','FrequencyMean','MonetaryMean', 'Count']"
   ]
  },
  {
   "cell_type": "code",
   "execution_count": 47,
   "metadata": {},
   "outputs": [
    {
     "data": {
      "image/png": "[encoded data removed]",
      "text/plain": [
       "<Figure size 720x360 with 1 Axes>"
      ]
     },
     "metadata": {
      "needs_background": "light"
     },
     "output_type": "display_data"
    }
   ],
   "source": [
    "#create our plot, organize data frame and plot resutls. *I want to fix the colors better, but so far, I coundlt. rsrsrs :)\n",
    "fig = plt.gcf()\n",
    "ax = fig.add_subplot()\n",
    "fig.set_size_inches(10, 5)\n",
    "squarify.plot(sizes=rfm_segments_df['Count'], \n",
    "              label=['Can\\'t Loose Them',\n",
    "                     'Champions',\n",
    "                     'Loyal',\n",
    "                     'Needs Attention',\n",
    "                     'Potential', \n",
    "                     'Promising', \n",
    "                     'Require Activation'], alpha=.7 )\n",
    "plt.title(\"RFM Segments\",fontsize=18,fontweight=\"bold\")\n",
    "plt.axis('off')\n",
    "plt.show()"
   ]
  },
  {
   "cell_type": "code",
   "execution_count": 48,
   "metadata": {},
   "outputs": [],
   "source": [
    "#export RFM df, to be analyzed using tableu Desktop.\n",
    "export_csv = rfm_segments_df.to_csv(r'C:\\\\Datasets\\\\Data_RFM.csv', index = True)"
   ]
  },
  {
   "cell_type": "markdown",
   "metadata": {},
   "source": [
    "# Cluster Analysis k-means\n",
    "A frequent used algorithm for drawing insights into the formations and separations within data. Is marketing, is often used to build customer segments and understand the bahaviours of these different segments. <br>\n",
    "Source: https://www.mktr.ai/applications-and-methods-in-data-science-customer-segmentation/"
   ]
  },
  {
   "cell_type": "code",
   "execution_count": 49,
   "metadata": {},
   "outputs": [
    {
     "data": {
      "text/html": [
       "<div>\n",
       "<style scoped>\n",
       "    .dataframe tbody tr th:only-of-type {\n",
       "        vertical-align: middle;\n",
       "    }\n",
       "\n",
       "    .dataframe tbody tr th {\n",
       "        vertical-align: top;\n",
       "    }\n",
       "\n",
       "    .dataframe thead th {\n",
       "        text-align: right;\n",
       "    }\n",
       "</style>\n",
       "<table border=\"1\" class=\"dataframe\">\n",
       "  <thead>\n",
       "    <tr style=\"text-align: right;\">\n",
       "      <th></th>\n",
       "      <th>Sum_Value</th>\n",
       "      <th>Basket_ID</th>\n",
       "    </tr>\n",
       "    <tr>\n",
       "      <th>Card_ID</th>\n",
       "      <th></th>\n",
       "      <th></th>\n",
       "    </tr>\n",
       "  </thead>\n",
       "  <tbody>\n",
       "    <tr>\n",
       "      <td>9160000047700</td>\n",
       "      <td>171.080323</td>\n",
       "      <td>6</td>\n",
       "    </tr>\n",
       "    <tr>\n",
       "      <td>9160000072177</td>\n",
       "      <td>135.802819</td>\n",
       "      <td>2</td>\n",
       "    </tr>\n",
       "    <tr>\n",
       "      <td>9160000108180</td>\n",
       "      <td>73.947205</td>\n",
       "      <td>1</td>\n",
       "    </tr>\n",
       "    <tr>\n",
       "      <td>9160000137227</td>\n",
       "      <td>126.920410</td>\n",
       "      <td>4</td>\n",
       "    </tr>\n",
       "    <tr>\n",
       "      <td>9160000168443</td>\n",
       "      <td>34.611240</td>\n",
       "      <td>4</td>\n",
       "    </tr>\n",
       "  </tbody>\n",
       "</table>\n",
       "</div>"
      ],
      "text/plain": [
       "                Sum_Value  Basket_ID\n",
       "Card_ID                             \n",
       "9160000047700  171.080323          6\n",
       "9160000072177  135.802819          2\n",
       "9160000108180   73.947205          1\n",
       "9160000137227  126.920410          4\n",
       "9160000168443   34.611240          4"
      ]
     },
     "execution_count": 49,
     "metadata": {},
     "output_type": "execute_result"
    }
   ],
   "source": [
    "# again, lets use groupby to aggregate sales by CustomerID, but this time we are looking only at sum sales and frequency.\n",
    "customer_df = sales_customer_df.groupby('Card_ID').agg({'Sum_Value': sum, \n",
    "                                            'Basket_ID': lambda x: x.nunique()})\n",
    "customer_df.head()"
   ]
  },
  {
   "cell_type": "code",
   "execution_count": 50,
   "metadata": {},
   "outputs": [
    {
     "data": {
      "text/html": [
       "<div>\n",
       "<style scoped>\n",
       "    .dataframe tbody tr th:only-of-type {\n",
       "        vertical-align: middle;\n",
       "    }\n",
       "\n",
       "    .dataframe tbody tr th {\n",
       "        vertical-align: top;\n",
       "    }\n",
       "\n",
       "    .dataframe thead th {\n",
       "        text-align: right;\n",
       "    }\n",
       "</style>\n",
       "<table border=\"1\" class=\"dataframe\">\n",
       "  <thead>\n",
       "    <tr style=\"text-align: right;\">\n",
       "      <th></th>\n",
       "      <th>TotalSales</th>\n",
       "      <th>OrderCount</th>\n",
       "    </tr>\n",
       "    <tr>\n",
       "      <th>Card_ID</th>\n",
       "      <th></th>\n",
       "      <th></th>\n",
       "    </tr>\n",
       "  </thead>\n",
       "  <tbody>\n",
       "    <tr>\n",
       "      <td>9160000047700</td>\n",
       "      <td>171.080323</td>\n",
       "      <td>6</td>\n",
       "    </tr>\n",
       "    <tr>\n",
       "      <td>9160000072177</td>\n",
       "      <td>135.802819</td>\n",
       "      <td>2</td>\n",
       "    </tr>\n",
       "    <tr>\n",
       "      <td>9160000108180</td>\n",
       "      <td>73.947205</td>\n",
       "      <td>1</td>\n",
       "    </tr>\n",
       "  </tbody>\n",
       "</table>\n",
       "</div>"
      ],
      "text/plain": [
       "               TotalSales  OrderCount\n",
       "Card_ID                              \n",
       "9160000047700  171.080323           6\n",
       "9160000072177  135.802819           2\n",
       "9160000108180   73.947205           1"
      ]
     },
     "execution_count": 50,
     "metadata": {},
     "output_type": "execute_result"
    }
   ],
   "source": [
    "# renaming the columns, as desired output and copy/past of aggregated values\n",
    "customer_df.rename(columns={'Sum_Value': 'TotalSales',\n",
    "                             'Basket_ID': 'OrderCount'}, inplace=True)\n",
    "customer_df = customer_df.copy()\n",
    "customer_df.head(3)"
   ]
  },
  {
   "cell_type": "code",
   "execution_count": 51,
   "metadata": {},
   "outputs": [
    {
     "data": {
      "text/html": [
       "<div>\n",
       "<style scoped>\n",
       "    .dataframe tbody tr th:only-of-type {\n",
       "        vertical-align: middle;\n",
       "    }\n",
       "\n",
       "    .dataframe tbody tr th {\n",
       "        vertical-align: top;\n",
       "    }\n",
       "\n",
       "    .dataframe thead th {\n",
       "        text-align: right;\n",
       "    }\n",
       "</style>\n",
       "<table border=\"1\" class=\"dataframe\">\n",
       "  <thead>\n",
       "    <tr style=\"text-align: right;\">\n",
       "      <th></th>\n",
       "      <th>TotalSales</th>\n",
       "      <th>OrderCount</th>\n",
       "      <th>AvgOrderValue</th>\n",
       "    </tr>\n",
       "    <tr>\n",
       "      <th>Card_ID</th>\n",
       "      <th></th>\n",
       "      <th></th>\n",
       "      <th></th>\n",
       "    </tr>\n",
       "  </thead>\n",
       "  <tbody>\n",
       "    <tr>\n",
       "      <td>9160000047700</td>\n",
       "      <td>171.080323</td>\n",
       "      <td>6</td>\n",
       "      <td>28.513387</td>\n",
       "    </tr>\n",
       "    <tr>\n",
       "      <td>9160000072177</td>\n",
       "      <td>135.802819</td>\n",
       "      <td>2</td>\n",
       "      <td>67.901409</td>\n",
       "    </tr>\n",
       "    <tr>\n",
       "      <td>9160000108180</td>\n",
       "      <td>73.947205</td>\n",
       "      <td>1</td>\n",
       "      <td>73.947205</td>\n",
       "    </tr>\n",
       "  </tbody>\n",
       "</table>\n",
       "</div>"
      ],
      "text/plain": [
       "               TotalSales  OrderCount  AvgOrderValue\n",
       "Card_ID                                             \n",
       "9160000047700  171.080323           6      28.513387\n",
       "9160000072177  135.802819           2      67.901409\n",
       "9160000108180   73.947205           1      73.947205"
      ]
     },
     "execution_count": 51,
     "metadata": {},
     "output_type": "execute_result"
    }
   ],
   "source": [
    "#creating new column 'AvgOrderValu'\n",
    "customer_df['AvgOrderValue'] = customer_df['TotalSales'] / customer_df['OrderCount']\n",
    "customer_df.head(3)"
   ]
  },
  {
   "cell_type": "code",
   "execution_count": 52,
   "metadata": {},
   "outputs": [
    {
     "data": {
      "text/html": [
       "<div>\n",
       "<style scoped>\n",
       "    .dataframe tbody tr th:only-of-type {\n",
       "        vertical-align: middle;\n",
       "    }\n",
       "\n",
       "    .dataframe tbody tr th {\n",
       "        vertical-align: top;\n",
       "    }\n",
       "\n",
       "    .dataframe thead th {\n",
       "        text-align: right;\n",
       "    }\n",
       "</style>\n",
       "<table border=\"1\" class=\"dataframe\">\n",
       "  <thead>\n",
       "    <tr style=\"text-align: right;\">\n",
       "      <th></th>\n",
       "      <th>TotalSales</th>\n",
       "      <th>OrderCount</th>\n",
       "      <th>AvgOrderValue</th>\n",
       "    </tr>\n",
       "    <tr>\n",
       "      <th>Card_ID</th>\n",
       "      <th></th>\n",
       "      <th></th>\n",
       "      <th></th>\n",
       "    </tr>\n",
       "  </thead>\n",
       "  <tbody>\n",
       "    <tr>\n",
       "      <td>9160000047700</td>\n",
       "      <td>1.276352</td>\n",
       "      <td>0.698411</td>\n",
       "      <td>1.346429</td>\n",
       "    </tr>\n",
       "    <tr>\n",
       "      <td>9160000072177</td>\n",
       "      <td>1.099190</td>\n",
       "      <td>-0.595263</td>\n",
       "      <td>1.714138</td>\n",
       "    </tr>\n",
       "    <tr>\n",
       "      <td>9160000108180</td>\n",
       "      <td>0.525186</td>\n",
       "      <td>-1.731460</td>\n",
       "      <td>1.720437</td>\n",
       "    </tr>\n",
       "    <tr>\n",
       "      <td>9160000137227</td>\n",
       "      <td>1.033050</td>\n",
       "      <td>0.270073</td>\n",
       "      <td>1.455088</td>\n",
       "    </tr>\n",
       "    <tr>\n",
       "      <td>9160000168443</td>\n",
       "      <td>-0.236216</td>\n",
       "      <td>0.270861</td>\n",
       "      <td>-1.018877</td>\n",
       "    </tr>\n",
       "  </tbody>\n",
       "</table>\n",
       "</div>"
      ],
      "text/plain": [
       "               TotalSales  OrderCount  AvgOrderValue\n",
       "Card_ID                                             \n",
       "9160000047700    1.276352    0.698411       1.346429\n",
       "9160000072177    1.099190   -0.595263       1.714138\n",
       "9160000108180    0.525186   -1.731460       1.720437\n",
       "9160000137227    1.033050    0.270073       1.455088\n",
       "9160000168443   -0.236216    0.270861      -1.018877"
      ]
     },
     "execution_count": 52,
     "metadata": {},
     "output_type": "execute_result"
    }
   ],
   "source": [
    "#Normalize Data, since clustering algotirhms like K-means are sensitive to the scales of the data used.\n",
    "rank_df = customer_df.rank(method='first')\n",
    "normalized_df = (rank_df - rank_df.mean()) / rank_df.std()\n",
    "normalized_df.head()"
   ]
  },
  {
   "cell_type": "code",
   "execution_count": 53,
   "metadata": {},
   "outputs": [
    {
     "data": {
      "text/html": [
       "<div>\n",
       "<style scoped>\n",
       "    .dataframe tbody tr th:only-of-type {\n",
       "        vertical-align: middle;\n",
       "    }\n",
       "\n",
       "    .dataframe tbody tr th {\n",
       "        vertical-align: top;\n",
       "    }\n",
       "\n",
       "    .dataframe thead th {\n",
       "        text-align: right;\n",
       "    }\n",
       "</style>\n",
       "<table border=\"1\" class=\"dataframe\">\n",
       "  <thead>\n",
       "    <tr style=\"text-align: right;\">\n",
       "      <th></th>\n",
       "      <th>TotalSales</th>\n",
       "      <th>OrderCount</th>\n",
       "      <th>AvgOrderValue</th>\n",
       "    </tr>\n",
       "  </thead>\n",
       "  <tbody>\n",
       "    <tr>\n",
       "      <td>count</td>\n",
       "      <td>4.399000e+03</td>\n",
       "      <td>4.399000e+03</td>\n",
       "      <td>4.399000e+03</td>\n",
       "    </tr>\n",
       "    <tr>\n",
       "      <td>mean</td>\n",
       "      <td>-1.584951e-17</td>\n",
       "      <td>9.714136e-17</td>\n",
       "      <td>5.501901e-18</td>\n",
       "    </tr>\n",
       "    <tr>\n",
       "      <td>std</td>\n",
       "      <td>1.000000e+00</td>\n",
       "      <td>1.000000e+00</td>\n",
       "      <td>1.000000e+00</td>\n",
       "    </tr>\n",
       "    <tr>\n",
       "      <td>min</td>\n",
       "      <td>-1.731460e+00</td>\n",
       "      <td>-1.731460e+00</td>\n",
       "      <td>-1.731460e+00</td>\n",
       "    </tr>\n",
       "    <tr>\n",
       "      <td>25%</td>\n",
       "      <td>-8.657301e-01</td>\n",
       "      <td>-8.657301e-01</td>\n",
       "      <td>-8.657301e-01</td>\n",
       "    </tr>\n",
       "    <tr>\n",
       "      <td>50%</td>\n",
       "      <td>0.000000e+00</td>\n",
       "      <td>0.000000e+00</td>\n",
       "      <td>0.000000e+00</td>\n",
       "    </tr>\n",
       "    <tr>\n",
       "      <td>75%</td>\n",
       "      <td>8.657301e-01</td>\n",
       "      <td>8.657301e-01</td>\n",
       "      <td>8.657301e-01</td>\n",
       "    </tr>\n",
       "    <tr>\n",
       "      <td>max</td>\n",
       "      <td>1.731460e+00</td>\n",
       "      <td>1.731460e+00</td>\n",
       "      <td>1.731460e+00</td>\n",
       "    </tr>\n",
       "  </tbody>\n",
       "</table>\n",
       "</div>"
      ],
      "text/plain": [
       "         TotalSales    OrderCount  AvgOrderValue\n",
       "count  4.399000e+03  4.399000e+03   4.399000e+03\n",
       "mean  -1.584951e-17  9.714136e-17   5.501901e-18\n",
       "std    1.000000e+00  1.000000e+00   1.000000e+00\n",
       "min   -1.731460e+00 -1.731460e+00  -1.731460e+00\n",
       "25%   -8.657301e-01 -8.657301e-01  -8.657301e-01\n",
       "50%    0.000000e+00  0.000000e+00   0.000000e+00\n",
       "75%    8.657301e-01  8.657301e-01   8.657301e-01\n",
       "max    1.731460e+00  1.731460e+00   1.731460e+00"
      ]
     },
     "execution_count": 53,
     "metadata": {},
     "output_type": "execute_result"
    }
   ],
   "source": [
    "#check normalized statis. = Our data is scaled between -2 and 2. Now let’s get to clustering.\n",
    "normalized_df.describe()"
   ]
  },
  {
   "cell_type": "markdown",
   "metadata": {},
   "source": [
    "# Select the optimal number of clusters\n",
    "2 approaches: 1) silhouette coefficient, and (2) the elbow method."
   ]
  },
  {
   "cell_type": "markdown",
   "metadata": {},
   "source": [
    "Silhouette refers to a method of interpretation and validation of consistency within clusters of data.\n",
    "The silhoutte value is a measure of how similar an objetc is to it's own cluster (cohension) compared\n",
    "to other clusters (separation). It ranges for -1 to + 1, high value = well matched to its own cluster\n",
    "and poorly matched to neighboring clusters. The silhoutte can be calculated with any distance metric, such as the Euclidean distance. Source: Wikipedia."
   ]
  },
  {
   "cell_type": "code",
   "execution_count": 54,
   "metadata": {},
   "outputs": [],
   "source": [
    "#import sklearn libraries\n",
    "from sklearn.cluster import KMeans\n",
    "from sklearn.metrics import silhouette_score"
   ]
  },
  {
   "cell_type": "code",
   "execution_count": 55,
   "metadata": {},
   "outputs": [
    {
     "name": "stdout",
     "output_type": "stream",
     "text": [
      "Silhouette Score for 3 Clusters: 0.4367\n",
      "Silhouette Score for 4 Clusters: 0.4083\n",
      "Silhouette Score for 5 Clusters: 0.4007\n",
      "Silhouette Score for 6 Clusters: 0.3819\n",
      "Silhouette Score for 7 Clusters: 0.3727\n",
      "Silhouette Score for 8 Clusters: 0.3749\n"
     ]
    }
   ],
   "source": [
    "# Use silhouette coefficient to determine the best number of clusters\n",
    "for n_cluster in [3,4,5,6,7,8]:\n",
    "    kmeans = KMeans(n_clusters=n_cluster).fit(\n",
    "        normalized_df[['TotalSales', 'OrderCount', 'AvgOrderValue']])\n",
    "    \n",
    "    silhouette_avg = silhouette_score(\n",
    "        normalized_df[['TotalSales', 'OrderCount', 'AvgOrderValue']], \n",
    "        kmeans.labels_)\n",
    "    \n",
    "    print('Silhouette Score for %i Clusters: %0.4f' % (n_cluster, silhouette_avg))"
   ]
  },
  {
   "cell_type": "markdown",
   "metadata": {},
   "source": [
    "# The Elbow Method with the Sum of Squared Errors (SSE)\n",
    "The idea behind elbow method is to run k-means clustering on a give dataset for a range of values of k(num_clusters, eg: K=1 to 10), and for each value of K, calculate the sum o squared errors (SSE). Ploting the line graph of the SSE for each value of K, depicts a line that looks like an arm. The elbow on the arm is the value of option K (number of cluster). The goal is to choose a small value of K that still has a low SSE, and the elbow usually represents where we start to have diminishing returns by increasing K. Source: StackOverflow"
   ]
  },
  {
   "cell_type": "code",
   "execution_count": 56,
   "metadata": {},
   "outputs": [],
   "source": [
    "from sklearn import cluster"
   ]
  },
  {
   "cell_type": "code",
   "execution_count": 57,
   "metadata": {},
   "outputs": [
    {
     "data": {
      "image/png": "[encoded data removed]",
      "text/plain": [
       "<Figure size 432x288 with 1 Axes>"
      ]
     },
     "metadata": {
      "needs_background": "light"
     },
     "output_type": "display_data"
    }
   ],
   "source": [
    "# use the elbow method to see if it agrees with our previous results suggesting 3 to 4 clusters.\n",
    "sse = []\n",
    "krange = list(range(2,11))\n",
    "X = normalized_df[['TotalSales','OrderCount','AvgOrderValue']].values\n",
    "for n in krange:\n",
    "    model = cluster.KMeans(n_clusters=n, random_state=3)\n",
    "    model.fit_predict(X)\n",
    "    cluster_assignments = model.labels_\n",
    "    centers = model.cluster_centers_\n",
    "    sse.append(np.sum((X - centers[cluster_assignments]) ** 2))\n",
    "\n",
    "plt.plot(krange, sse)\n",
    "plt.xlabel(\"$K$\")\n",
    "plt.ylabel(\"Sum of Squares\")\n",
    "plt.show()"
   ]
  },
  {
   "cell_type": "markdown",
   "metadata": {},
   "source": [
    "Based on the graph above, it looks like K=4, or 4 clusters is the optimal number of clusters for this analysis"
   ]
  },
  {
   "cell_type": "code",
   "execution_count": 58,
   "metadata": {},
   "outputs": [
    {
     "data": {
      "text/html": [
       "<div>\n",
       "<style scoped>\n",
       "    .dataframe tbody tr th:only-of-type {\n",
       "        vertical-align: middle;\n",
       "    }\n",
       "\n",
       "    .dataframe tbody tr th {\n",
       "        vertical-align: top;\n",
       "    }\n",
       "\n",
       "    .dataframe thead th {\n",
       "        text-align: right;\n",
       "    }\n",
       "</style>\n",
       "<table border=\"1\" class=\"dataframe\">\n",
       "  <thead>\n",
       "    <tr style=\"text-align: right;\">\n",
       "      <th></th>\n",
       "      <th>TotalSales</th>\n",
       "      <th>OrderCount</th>\n",
       "      <th>AvgOrderValue</th>\n",
       "      <th>Cluster</th>\n",
       "    </tr>\n",
       "    <tr>\n",
       "      <th>Card_ID</th>\n",
       "      <th></th>\n",
       "      <th></th>\n",
       "      <th></th>\n",
       "      <th></th>\n",
       "    </tr>\n",
       "  </thead>\n",
       "  <tbody>\n",
       "    <tr>\n",
       "      <td>9160000047700</td>\n",
       "      <td>1.276352</td>\n",
       "      <td>0.698411</td>\n",
       "      <td>1.346429</td>\n",
       "      <td>1</td>\n",
       "    </tr>\n",
       "    <tr>\n",
       "      <td>9160000072177</td>\n",
       "      <td>1.099190</td>\n",
       "      <td>-0.595263</td>\n",
       "      <td>1.714138</td>\n",
       "      <td>2</td>\n",
       "    </tr>\n",
       "    <tr>\n",
       "      <td>9160000108180</td>\n",
       "      <td>0.525186</td>\n",
       "      <td>-1.731460</td>\n",
       "      <td>1.720437</td>\n",
       "      <td>2</td>\n",
       "    </tr>\n",
       "    <tr>\n",
       "      <td>9160000137227</td>\n",
       "      <td>1.033050</td>\n",
       "      <td>0.270073</td>\n",
       "      <td>1.455088</td>\n",
       "      <td>1</td>\n",
       "    </tr>\n",
       "    <tr>\n",
       "      <td>9160000168443</td>\n",
       "      <td>-0.236216</td>\n",
       "      <td>0.270861</td>\n",
       "      <td>-1.018877</td>\n",
       "      <td>0</td>\n",
       "    </tr>\n",
       "  </tbody>\n",
       "</table>\n",
       "</div>"
      ],
      "text/plain": [
       "               TotalSales  OrderCount  AvgOrderValue  Cluster\n",
       "Card_ID                                                      \n",
       "9160000047700    1.276352    0.698411       1.346429        1\n",
       "9160000072177    1.099190   -0.595263       1.714138        2\n",
       "9160000108180    0.525186   -1.731460       1.720437        2\n",
       "9160000137227    1.033050    0.270073       1.455088        1\n",
       "9160000168443   -0.236216    0.270861      -1.018877        0"
      ]
     },
     "execution_count": 58,
     "metadata": {},
     "output_type": "execute_result"
    }
   ],
   "source": [
    "#Now let’s interpret the customer segments provided by these clusters.\n",
    "#run kmeans with 4 cluster parameter defined\n",
    "kmeans = KMeans(n_clusters=4).fit(normalized_df[['TotalSales', 'OrderCount', 'AvgOrderValue']])\n",
    "#create a new df to store the kmean output. New collum\n",
    "four_cluster_df = normalized_df[['TotalSales', 'OrderCount', 'AvgOrderValue']].copy(deep=True)\n",
    "four_cluster_df['Cluster'] = kmeans.labels_\n",
    "four_cluster_df.head()"
   ]
  },
  {
   "cell_type": "code",
   "execution_count": 59,
   "metadata": {},
   "outputs": [
    {
     "data": {
      "text/html": [
       "<div>\n",
       "<style scoped>\n",
       "    .dataframe tbody tr th:only-of-type {\n",
       "        vertical-align: middle;\n",
       "    }\n",
       "\n",
       "    .dataframe tbody tr th {\n",
       "        vertical-align: top;\n",
       "    }\n",
       "\n",
       "    .dataframe thead th {\n",
       "        text-align: right;\n",
       "    }\n",
       "</style>\n",
       "<table border=\"1\" class=\"dataframe\">\n",
       "  <thead>\n",
       "    <tr style=\"text-align: right;\">\n",
       "      <th></th>\n",
       "      <th>TotalSales</th>\n",
       "      <th>OrderCount</th>\n",
       "      <th>AvgOrderValue</th>\n",
       "    </tr>\n",
       "  </thead>\n",
       "  <tbody>\n",
       "    <tr>\n",
       "      <td>0</td>\n",
       "      <td>0.520155</td>\n",
       "      <td>0.898501</td>\n",
       "      <td>-0.664783</td>\n",
       "    </tr>\n",
       "    <tr>\n",
       "      <td>1</td>\n",
       "      <td>1.143205</td>\n",
       "      <td>0.910603</td>\n",
       "      <td>0.740168</td>\n",
       "    </tr>\n",
       "    <tr>\n",
       "      <td>2</td>\n",
       "      <td>-0.275909</td>\n",
       "      <td>-0.801551</td>\n",
       "      <td>0.941749</td>\n",
       "    </tr>\n",
       "    <tr>\n",
       "      <td>3</td>\n",
       "      <td>-1.229849</td>\n",
       "      <td>-0.822802</td>\n",
       "      <td>-1.039006</td>\n",
       "    </tr>\n",
       "  </tbody>\n",
       "</table>\n",
       "</div>"
      ],
      "text/plain": [
       "   TotalSales  OrderCount  AvgOrderValue\n",
       "0    0.520155    0.898501      -0.664783\n",
       "1    1.143205    0.910603       0.740168\n",
       "2   -0.275909   -0.801551       0.941749\n",
       "3   -1.229849   -0.822802      -1.039006"
      ]
     },
     "execution_count": 59,
     "metadata": {},
     "output_type": "execute_result"
    }
   ],
   "source": [
    "#Now let’s group the cluster metrics and see what we can gather from the normalized data for each cluster.\n",
    "cluster1_metrics = kmeans.cluster_centers_[0]\n",
    "cluster2_metrics = kmeans.cluster_centers_[1]\n",
    "cluster3_metrics = kmeans.cluster_centers_[2]\n",
    "cluster4_metrics = kmeans.cluster_centers_[3]\n",
    "data = [cluster1_metrics, cluster2_metrics, cluster3_metrics, cluster4_metrics]\n",
    "cluster_center_df = pd.DataFrame(data)\n",
    "cluster_center_df.columns = four_cluster_df.columns[0:3]\n",
    "cluster_center_df.head()"
   ]
  },
  {
   "cell_type": "code",
   "execution_count": 100,
   "metadata": {},
   "outputs": [
    {
     "data": {
      "image/png": "[encoded data removed]",
      "text/plain": [
       "<Figure size 432x288 with 1 Axes>"
      ]
     },
     "metadata": {
      "needs_background": "light"
     },
     "output_type": "display_data"
    }
   ],
   "source": [
    "#For this next piece, we are going to visualize the clusters by putting the different columns on the x and y-axes.\n",
    "plt.scatter(\n",
    "    four_cluster_df.loc[four_cluster_df['Cluster'] == 0]['OrderCount'], \n",
    "    four_cluster_df.loc[four_cluster_df['Cluster'] == 0]['TotalSales'],\n",
    "    c='red')\n",
    "\n",
    "plt.scatter(\n",
    "    four_cluster_df.loc[four_cluster_df['Cluster'] == 1]['OrderCount'], \n",
    "    four_cluster_df.loc[four_cluster_df['Cluster'] == 1]['TotalSales'],\n",
    "    c='green')\n",
    "\n",
    "plt.scatter(\n",
    "    four_cluster_df.loc[four_cluster_df['Cluster'] == 2]['OrderCount'], \n",
    "    four_cluster_df.loc[four_cluster_df['Cluster'] == 2]['TotalSales'],\n",
    "    c='blue')\n",
    "\n",
    "plt.scatter(\n",
    "    four_cluster_df.loc[four_cluster_df['Cluster'] == 3]['OrderCount'], \n",
    "    four_cluster_df.loc[four_cluster_df['Cluster'] == 3]['TotalSales'],\n",
    "    c='gold')\n",
    "\n",
    "plt.title('TotalSales vs. OrderCount Clusters')\n",
    "plt.xlabel('Order Count')\n",
    "plt.ylabel('Total Sales')\n",
    "\n",
    "plt.grid()\n",
    "plt.show()"
   ]
  },
  {
   "cell_type": "markdown",
   "metadata": {},
   "source": [
    "Customer in Yellow: low total sales and low order count | on the oposite side: | Customer in green: high total sales and high order count. <br>\n",
    "Customer in Blue: high total sales but low order count | on the oposite side: | Customer in red: high total sales but low order count. <br> Key takeaway: Green = highest value customers"
   ]
  },
  {
   "cell_type": "code",
   "execution_count": 101,
   "metadata": {},
   "outputs": [
    {
     "data": {
      "image/png": "[encoded data removed]",
      "text/plain": [
       "<Figure size 432x288 with 1 Axes>"
      ]
     },
     "metadata": {
      "needs_background": "light"
     },
     "output_type": "display_data"
    }
   ],
   "source": [
    "#2nd plot, but now by Avg order value vs order counts\n",
    "plt.scatter(\n",
    "    four_cluster_df.loc[four_cluster_df['Cluster'] == 0]['OrderCount'], \n",
    "    four_cluster_df.loc[four_cluster_df['Cluster'] == 0]['AvgOrderValue'],\n",
    "    c='red')\n",
    "\n",
    "plt.scatter(\n",
    "    four_cluster_df.loc[four_cluster_df['Cluster'] == 1]['OrderCount'], \n",
    "    four_cluster_df.loc[four_cluster_df['Cluster'] == 1]['AvgOrderValue'],\n",
    "    c='green')\n",
    "\n",
    "plt.scatter(\n",
    "    four_cluster_df.loc[four_cluster_df['Cluster'] == 2]['OrderCount'], \n",
    "    four_cluster_df.loc[four_cluster_df['Cluster'] == 2]['AvgOrderValue'],\n",
    "    c='blue')\n",
    "\n",
    "plt.scatter(\n",
    "    four_cluster_df.loc[four_cluster_df['Cluster'] == 3]['OrderCount'], \n",
    "    four_cluster_df.loc[four_cluster_df['Cluster'] == 3]['AvgOrderValue'],\n",
    "    c='gold')\n",
    "\n",
    "plt.title('AvgOrderValue vs. OrderCount Clusters')\n",
    "plt.xlabel('Order Count')\n",
    "plt.ylabel('Avg Order Value')\n",
    "\n",
    "plt.grid()\n",
    "plt.show()"
   ]
  },
  {
   "cell_type": "markdown",
   "metadata": {},
   "source": [
    "In this second plot, we are looking now at the Average Order Value vs Order Count. Customer in green are the highest value. <br>\n",
    "Potential marketing actions: <br> \n",
    "Blue cluster: Attempt to find ways to increase their order count with e-mail remainder/sms push notification. eg (discount if they return within 30 days or delayed cupon to be in specific time period.) <br>\n",
    "Red cluster: try some cross-selling and up-selling techniques. quick pop-up with an offer, based on market basked analysis."
   ]
  },
  {
   "cell_type": "code",
   "execution_count": 102,
   "metadata": {},
   "outputs": [
    {
     "data": {
      "image/png": "[encoded data removed]",
      "text/plain": [
       "<Figure size 432x288 with 1 Axes>"
      ]
     },
     "metadata": {
      "needs_background": "light"
     },
     "output_type": "display_data"
    }
   ],
   "source": [
    "# 3rd plot\n",
    "plt.scatter(\n",
    "    four_cluster_df.loc[four_cluster_df['Cluster'] == 0]['TotalSales'], \n",
    "    four_cluster_df.loc[four_cluster_df['Cluster'] == 0]['AvgOrderValue'],\n",
    "    c='red')\n",
    "\n",
    "plt.scatter(\n",
    "    four_cluster_df.loc[four_cluster_df['Cluster'] == 1]['TotalSales'], \n",
    "    four_cluster_df.loc[four_cluster_df['Cluster'] == 1]['AvgOrderValue'],\n",
    "    c='green')\n",
    "\n",
    "plt.scatter(\n",
    "    four_cluster_df.loc[four_cluster_df['Cluster'] == 2]['TotalSales'], \n",
    "    four_cluster_df.loc[four_cluster_df['Cluster'] == 2]['AvgOrderValue'],\n",
    "    c='blue')\n",
    "\n",
    "plt.scatter(\n",
    "    four_cluster_df.loc[four_cluster_df['Cluster'] == 3]['TotalSales'], \n",
    "    four_cluster_df.loc[four_cluster_df['Cluster'] == 3]['AvgOrderValue'],\n",
    "    c='gold')\n",
    "\n",
    "plt.title('AvgOrderValue vs. TotalSales Clusters')\n",
    "plt.xlabel('Total Sales')\n",
    "plt.ylabel('Avg Order Value')\n",
    "\n",
    "plt.grid()\n",
    "plt.show()"
   ]
  },
  {
   "cell_type": "markdown",
   "metadata": {},
   "source": [
    "This third plot, we have the average order value versus total sales clusters. <br>\n",
    "This plot further substantiates the previous 2 plots in identifying the green cluster as the highest value customers, yelow as the lowest value customers, and the blue and red as high opportunity customers.<br>\n",
    "Looking to growth revenue actions, marketing could focus on better understanding opportunities clusters (blue and red) behaviour."
   ]
  },
  {
   "cell_type": "markdown",
   "metadata": {},
   "source": [
    "# Find the best-selling item by segment"
   ]
  },
  {
   "cell_type": "code",
   "execution_count": 75,
   "metadata": {},
   "outputs": [
    {
     "data": {
      "text/html": [
       "<div>\n",
       "<style scoped>\n",
       "    .dataframe tbody tr th:only-of-type {\n",
       "        vertical-align: middle;\n",
       "    }\n",
       "\n",
       "    .dataframe tbody tr th {\n",
       "        vertical-align: top;\n",
       "    }\n",
       "\n",
       "    .dataframe thead th {\n",
       "        text-align: right;\n",
       "    }\n",
       "</style>\n",
       "<table border=\"1\" class=\"dataframe\">\n",
       "  <thead>\n",
       "    <tr style=\"text-align: right;\">\n",
       "      <th></th>\n",
       "      <th>CategoryA</th>\n",
       "      <th>CategoryB</th>\n",
       "      <th>CategoryBDescription</th>\n",
       "      <th>CategoryC</th>\n",
       "      <th>CategoryCDescription</th>\n",
       "      <th>CategoryD</th>\n",
       "      <th>CategoryDDescription</th>\n",
       "    </tr>\n",
       "  </thead>\n",
       "  <tbody>\n",
       "    <tr>\n",
       "      <td>0</td>\n",
       "      <td>10</td>\n",
       "      <td>11</td>\n",
       "      <td>DRINKS</td>\n",
       "      <td>261</td>\n",
       "      <td>BEVERAGES</td>\n",
       "      <td>1</td>\n",
       "      <td>cola</td>\n",
       "    </tr>\n",
       "    <tr>\n",
       "      <td>1</td>\n",
       "      <td>10</td>\n",
       "      <td>11</td>\n",
       "      <td>DRINKS</td>\n",
       "      <td>261</td>\n",
       "      <td>BEVERAGES</td>\n",
       "      <td>2</td>\n",
       "      <td>lime</td>\n",
       "    </tr>\n",
       "    <tr>\n",
       "      <td>2</td>\n",
       "      <td>10</td>\n",
       "      <td>11</td>\n",
       "      <td>DRINKS</td>\n",
       "      <td>261</td>\n",
       "      <td>BEVERAGES</td>\n",
       "      <td>3</td>\n",
       "      <td>juice</td>\n",
       "    </tr>\n",
       "  </tbody>\n",
       "</table>\n",
       "</div>"
      ],
      "text/plain": [
       "   CategoryA  CategoryB CategoryBDescription  CategoryC CategoryCDescription  \\\n",
       "0         10         11               DRINKS        261            BEVERAGES   \n",
       "1         10         11               DRINKS        261            BEVERAGES   \n",
       "2         10         11               DRINKS        261            BEVERAGES   \n",
       "\n",
       "   CategoryD CategoryDDescription  \n",
       "0          1                 cola  \n",
       "1          2                 lime  \n",
       "2          3               juice   "
      ]
     },
     "execution_count": 75,
     "metadata": {},
     "output_type": "execute_result"
    }
   ],
   "source": [
    "# clean and organize taxonomy df and add key valye\n",
    "taxonomy_df.head(3)"
   ]
  },
  {
   "cell_type": "code",
   "execution_count": 76,
   "metadata": {},
   "outputs": [
    {
     "data": {
      "text/plain": [
       "CategoryA                int64\n",
       "CategoryB                int64\n",
       "CategoryBDescription    object\n",
       "CategoryC                int64\n",
       "CategoryCDescription    object\n",
       "CategoryD                int64\n",
       "CategoryDDescription    object\n",
       "dtype: object"
      ]
     },
     "execution_count": 76,
     "metadata": {},
     "output_type": "execute_result"
    }
   ],
   "source": [
    "#check data type before merge\n",
    "taxonomy_df.dtypes"
   ]
  },
  {
   "cell_type": "code",
   "execution_count": 77,
   "metadata": {
    "scrolled": true
   },
   "outputs": [
    {
     "data": {
      "text/html": [
       "<div>\n",
       "<style scoped>\n",
       "    .dataframe tbody tr th:only-of-type {\n",
       "        vertical-align: middle;\n",
       "    }\n",
       "\n",
       "    .dataframe tbody tr th {\n",
       "        vertical-align: top;\n",
       "    }\n",
       "\n",
       "    .dataframe thead th {\n",
       "        text-align: right;\n",
       "    }\n",
       "</style>\n",
       "<table border=\"1\" class=\"dataframe\">\n",
       "  <thead>\n",
       "    <tr style=\"text-align: right;\">\n",
       "      <th></th>\n",
       "      <th>CategoryA</th>\n",
       "      <th>CategoryB</th>\n",
       "      <th>CategoryBDescription</th>\n",
       "      <th>CategoryC</th>\n",
       "      <th>CategoryCDescription</th>\n",
       "      <th>CategoryD</th>\n",
       "      <th>CategoryDDescription</th>\n",
       "      <th>Key</th>\n",
       "    </tr>\n",
       "  </thead>\n",
       "  <tbody>\n",
       "    <tr>\n",
       "      <td>0</td>\n",
       "      <td>10</td>\n",
       "      <td>11</td>\n",
       "      <td>DRINKS</td>\n",
       "      <td>261</td>\n",
       "      <td>BEVERAGES</td>\n",
       "      <td>1</td>\n",
       "      <td>cola</td>\n",
       "      <td>10112611</td>\n",
       "    </tr>\n",
       "    <tr>\n",
       "      <td>1</td>\n",
       "      <td>10</td>\n",
       "      <td>11</td>\n",
       "      <td>DRINKS</td>\n",
       "      <td>261</td>\n",
       "      <td>BEVERAGES</td>\n",
       "      <td>2</td>\n",
       "      <td>lime</td>\n",
       "      <td>10112612</td>\n",
       "    </tr>\n",
       "    <tr>\n",
       "      <td>2</td>\n",
       "      <td>10</td>\n",
       "      <td>11</td>\n",
       "      <td>DRINKS</td>\n",
       "      <td>261</td>\n",
       "      <td>BEVERAGES</td>\n",
       "      <td>3</td>\n",
       "      <td>juice</td>\n",
       "      <td>10112613</td>\n",
       "    </tr>\n",
       "  </tbody>\n",
       "</table>\n",
       "</div>"
      ],
      "text/plain": [
       "   CategoryA  CategoryB CategoryBDescription  CategoryC CategoryCDescription  \\\n",
       "0         10         11               DRINKS        261            BEVERAGES   \n",
       "1         10         11               DRINKS        261            BEVERAGES   \n",
       "2         10         11               DRINKS        261            BEVERAGES   \n",
       "\n",
       "   CategoryD CategoryDDescription       Key  \n",
       "0          1                 cola  10112611  \n",
       "1          2                 lime  10112612  \n",
       "2          3               juice   10112613  "
      ]
     },
     "execution_count": 77,
     "metadata": {},
     "output_type": "execute_result"
    }
   ],
   "source": [
    "#to avoid summing taxonomy codes, transform into string before concatenation\n",
    "taxonomy_df[\"Key\"] = taxonomy_df[\"CategoryA\"].astype(str)+taxonomy_df[\"CategoryB\"].astype(str)+taxonomy_df[\"CategoryC\"].astype(str)+taxonomy_df[\"CategoryD\"].astype(str)\n",
    "taxonomy_df.head(3)"
   ]
  },
  {
   "cell_type": "code",
   "execution_count": 78,
   "metadata": {},
   "outputs": [
    {
     "data": {
      "text/html": [
       "<div>\n",
       "<style scoped>\n",
       "    .dataframe tbody tr th:only-of-type {\n",
       "        vertical-align: middle;\n",
       "    }\n",
       "\n",
       "    .dataframe tbody tr th {\n",
       "        vertical-align: top;\n",
       "    }\n",
       "\n",
       "    .dataframe thead th {\n",
       "        text-align: right;\n",
       "    }\n",
       "</style>\n",
       "<table border=\"1\" class=\"dataframe\">\n",
       "  <thead>\n",
       "    <tr style=\"text-align: right;\">\n",
       "      <th></th>\n",
       "      <th>CategoryBDescription</th>\n",
       "      <th>CategoryCDescription</th>\n",
       "      <th>CategoryDDescription</th>\n",
       "      <th>Key</th>\n",
       "    </tr>\n",
       "  </thead>\n",
       "  <tbody>\n",
       "    <tr>\n",
       "      <td>0</td>\n",
       "      <td>DRINKS</td>\n",
       "      <td>BEVERAGES</td>\n",
       "      <td>cola</td>\n",
       "      <td>10112611</td>\n",
       "    </tr>\n",
       "    <tr>\n",
       "      <td>1</td>\n",
       "      <td>DRINKS</td>\n",
       "      <td>BEVERAGES</td>\n",
       "      <td>lime</td>\n",
       "      <td>10112612</td>\n",
       "    </tr>\n",
       "    <tr>\n",
       "      <td>2</td>\n",
       "      <td>DRINKS</td>\n",
       "      <td>BEVERAGES</td>\n",
       "      <td>juice</td>\n",
       "      <td>10112613</td>\n",
       "    </tr>\n",
       "    <tr>\n",
       "      <td>3</td>\n",
       "      <td>DRINKS</td>\n",
       "      <td>BEVERAGES</td>\n",
       "      <td>sport drinks</td>\n",
       "      <td>10112615</td>\n",
       "    </tr>\n",
       "    <tr>\n",
       "      <td>4</td>\n",
       "      <td>DRINKS</td>\n",
       "      <td>BEVERAGES</td>\n",
       "      <td>tea</td>\n",
       "      <td>10112616</td>\n",
       "    </tr>\n",
       "  </tbody>\n",
       "</table>\n",
       "</div>"
      ],
      "text/plain": [
       "  CategoryBDescription CategoryCDescription CategoryDDescription       Key\n",
       "0               DRINKS            BEVERAGES                 cola  10112611\n",
       "1               DRINKS            BEVERAGES                 lime  10112612\n",
       "2               DRINKS            BEVERAGES               juice   10112613\n",
       "3               DRINKS            BEVERAGES         sport drinks  10112615\n",
       "4               DRINKS            BEVERAGES                  tea  10112616"
      ]
     },
     "execution_count": 78,
     "metadata": {},
     "output_type": "execute_result"
    }
   ],
   "source": [
    "#after concatenation, drop unnecessary columns\n",
    "taxonomy_df.drop([\"CategoryA\", \"CategoryB\", \"CategoryC\", \"CategoryD\"], axis = 1, inplace = True)\n",
    "taxonomy_df.head()"
   ]
  },
  {
   "cell_type": "code",
   "execution_count": 86,
   "metadata": {},
   "outputs": [
    {
     "data": {
      "text/html": [
       "<div>\n",
       "<style scoped>\n",
       "    .dataframe tbody tr th:only-of-type {\n",
       "        vertical-align: middle;\n",
       "    }\n",
       "\n",
       "    .dataframe tbody tr th {\n",
       "        vertical-align: top;\n",
       "    }\n",
       "\n",
       "    .dataframe thead th {\n",
       "        text-align: right;\n",
       "    }\n",
       "</style>\n",
       "<table border=\"1\" class=\"dataframe\">\n",
       "  <thead>\n",
       "    <tr style=\"text-align: right;\">\n",
       "      <th></th>\n",
       "      <th>Key</th>\n",
       "      <th>CategoryBDescription</th>\n",
       "      <th>CategoryCDescription</th>\n",
       "      <th>CategoryDDescription</th>\n",
       "    </tr>\n",
       "  </thead>\n",
       "  <tbody>\n",
       "    <tr>\n",
       "      <td>0</td>\n",
       "      <td>10112611</td>\n",
       "      <td>DRINKS</td>\n",
       "      <td>BEVERAGES</td>\n",
       "      <td>cola</td>\n",
       "    </tr>\n",
       "    <tr>\n",
       "      <td>1</td>\n",
       "      <td>10112612</td>\n",
       "      <td>DRINKS</td>\n",
       "      <td>BEVERAGES</td>\n",
       "      <td>lime</td>\n",
       "    </tr>\n",
       "    <tr>\n",
       "      <td>2</td>\n",
       "      <td>10112613</td>\n",
       "      <td>DRINKS</td>\n",
       "      <td>BEVERAGES</td>\n",
       "      <td>juice</td>\n",
       "    </tr>\n",
       "  </tbody>\n",
       "</table>\n",
       "</div>"
      ],
      "text/plain": [
       "        Key CategoryBDescription CategoryCDescription CategoryDDescription\n",
       "0  10112611               DRINKS            BEVERAGES                 cola\n",
       "1  10112612               DRINKS            BEVERAGES                 lime\n",
       "2  10112613               DRINKS            BEVERAGES               juice "
      ]
     },
     "execution_count": 86,
     "metadata": {},
     "output_type": "execute_result"
    }
   ],
   "source": [
    "#organize display layout.\n",
    "taxonomy_df = taxonomy_df[['Key', 'CategoryBDescription', 'CategoryCDescription', 'CategoryDDescription']]\n",
    "taxonomy_df.head(3)"
   ]
  },
  {
   "cell_type": "code",
   "execution_count": 87,
   "metadata": {},
   "outputs": [],
   "source": [
    "#some records identified with same key values and small changes into D description, hence, drop duplicated value\n",
    "taxonomy_df.drop_duplicates(subset =\"Key\", \n",
    "                             keep = False, inplace = True)"
   ]
  },
  {
   "cell_type": "code",
   "execution_count": 88,
   "metadata": {},
   "outputs": [],
   "source": [
    "#copy sliced values\n",
    "taxonomy_df = taxonomy_df.copy()"
   ]
  },
  {
   "cell_type": "code",
   "execution_count": 89,
   "metadata": {},
   "outputs": [
    {
     "name": "stdout",
     "output_type": "stream",
     "text": [
      "Current cleaned Sales Dataset has:  232814 records\n"
     ]
    }
   ],
   "source": [
    "print(\"Current cleaned Sales Dataset has: \",sales_data.shape[0], \"records\")"
   ]
  },
  {
   "cell_type": "code",
   "execution_count": 90,
   "metadata": {},
   "outputs": [
    {
     "name": "stdout",
     "output_type": "stream",
     "text": [
      "Total Records after dropping NaN taxonomy values: 232814\n"
     ]
    }
   ],
   "source": [
    "sales_barcode_desc_df = pd.merge(sales_data, taxonomy_df,on=\"Key\", how=\"left\")\n",
    "print(\"Total Records after dropping NaN taxonomy values:\",sales_barcode_desc_df.shape[0])"
   ]
  },
  {
   "cell_type": "code",
   "execution_count": 91,
   "metadata": {},
   "outputs": [
    {
     "data": {
      "text/html": [
       "<div>\n",
       "<style scoped>\n",
       "    .dataframe tbody tr th:only-of-type {\n",
       "        vertical-align: middle;\n",
       "    }\n",
       "\n",
       "    .dataframe tbody tr th {\n",
       "        vertical-align: top;\n",
       "    }\n",
       "\n",
       "    .dataframe thead th {\n",
       "        text-align: right;\n",
       "    }\n",
       "</style>\n",
       "<table border=\"1\" class=\"dataframe\">\n",
       "  <thead>\n",
       "    <tr style=\"text-align: right;\">\n",
       "      <th></th>\n",
       "      <th>Basket_ID</th>\n",
       "      <th>Date</th>\n",
       "      <th>Barcode</th>\n",
       "      <th>Sum_Units</th>\n",
       "      <th>Sum_Value</th>\n",
       "      <th>Card_ID</th>\n",
       "      <th>Key</th>\n",
       "      <th>CategoryBDescription</th>\n",
       "      <th>CategoryCDescription</th>\n",
       "      <th>CategoryDDescription</th>\n",
       "    </tr>\n",
       "  </thead>\n",
       "  <tbody>\n",
       "    <tr>\n",
       "      <td>0</td>\n",
       "      <td>1103084867</td>\n",
       "      <td>2013-04-15</td>\n",
       "      <td>800220505783</td>\n",
       "      <td>2</td>\n",
       "      <td>1.960000</td>\n",
       "      <td>9160003751260</td>\n",
       "      <td>10142392</td>\n",
       "      <td>Grocery Food</td>\n",
       "      <td>pet</td>\n",
       "      <td>cat</td>\n",
       "    </tr>\n",
       "    <tr>\n",
       "      <td>1</td>\n",
       "      <td>1103853519</td>\n",
       "      <td>2013-04-17</td>\n",
       "      <td>520139501183</td>\n",
       "      <td>1</td>\n",
       "      <td>5.349993</td>\n",
       "      <td>9164001986624</td>\n",
       "      <td>10122811</td>\n",
       "      <td>Detergents</td>\n",
       "      <td>laundry</td>\n",
       "      <td>wash</td>\n",
       "    </tr>\n",
       "    <tr>\n",
       "      <td>2</td>\n",
       "      <td>1092750793</td>\n",
       "      <td>2013-03-13</td>\n",
       "      <td>520423907421</td>\n",
       "      <td>6</td>\n",
       "      <td>1.740015</td>\n",
       "      <td>9164012915385</td>\n",
       "      <td>10142392</td>\n",
       "      <td>Grocery Food</td>\n",
       "      <td>pet</td>\n",
       "      <td>cat</td>\n",
       "    </tr>\n",
       "  </tbody>\n",
       "</table>\n",
       "</div>"
      ],
      "text/plain": [
       "    Basket_ID       Date       Barcode  Sum_Units  Sum_Value        Card_ID  \\\n",
       "0  1103084867 2013-04-15  800220505783          2   1.960000  9160003751260   \n",
       "1  1103853519 2013-04-17  520139501183          1   5.349993  9164001986624   \n",
       "2  1092750793 2013-03-13  520423907421          6   1.740015  9164012915385   \n",
       "\n",
       "        Key CategoryBDescription CategoryCDescription CategoryDDescription  \n",
       "0  10142392         Grocery Food                 pet                  cat   \n",
       "1  10122811           Detergents              laundry                 wash  \n",
       "2  10142392         Grocery Food                 pet                  cat   "
      ]
     },
     "execution_count": 91,
     "metadata": {},
     "output_type": "execute_result"
    }
   ],
   "source": [
    "sales_barcode_desc_df.head(3)"
   ]
  },
  {
   "cell_type": "code",
   "execution_count": 92,
   "metadata": {},
   "outputs": [
    {
     "data": {
      "text/html": [
       "<div>\n",
       "<style scoped>\n",
       "    .dataframe tbody tr th:only-of-type {\n",
       "        vertical-align: middle;\n",
       "    }\n",
       "\n",
       "    .dataframe tbody tr th {\n",
       "        vertical-align: top;\n",
       "    }\n",
       "\n",
       "    .dataframe thead th {\n",
       "        text-align: right;\n",
       "    }\n",
       "</style>\n",
       "<table border=\"1\" class=\"dataframe\">\n",
       "  <thead>\n",
       "    <tr style=\"text-align: right;\">\n",
       "      <th></th>\n",
       "      <th>Basket_ID</th>\n",
       "      <th>Date</th>\n",
       "      <th>Barcode</th>\n",
       "      <th>Sum_Units</th>\n",
       "      <th>Sum_Value</th>\n",
       "      <th>Card_ID</th>\n",
       "      <th>Key</th>\n",
       "      <th>CategoryBDescription</th>\n",
       "      <th>CategoryCDescription</th>\n",
       "      <th>CategoryDDescription</th>\n",
       "      <th>Description</th>\n",
       "    </tr>\n",
       "  </thead>\n",
       "  <tbody>\n",
       "    <tr>\n",
       "      <td>0</td>\n",
       "      <td>1103084867</td>\n",
       "      <td>2013-04-15</td>\n",
       "      <td>800220505783</td>\n",
       "      <td>2</td>\n",
       "      <td>1.960000</td>\n",
       "      <td>9160003751260</td>\n",
       "      <td>10142392</td>\n",
       "      <td>Grocery Food</td>\n",
       "      <td>pet</td>\n",
       "      <td>cat</td>\n",
       "      <td>Grocery Food- pet -cat</td>\n",
       "    </tr>\n",
       "    <tr>\n",
       "      <td>1</td>\n",
       "      <td>1103853519</td>\n",
       "      <td>2013-04-17</td>\n",
       "      <td>520139501183</td>\n",
       "      <td>1</td>\n",
       "      <td>5.349993</td>\n",
       "      <td>9164001986624</td>\n",
       "      <td>10122811</td>\n",
       "      <td>Detergents</td>\n",
       "      <td>laundry</td>\n",
       "      <td>wash</td>\n",
       "      <td>Detergents-laundry-wash</td>\n",
       "    </tr>\n",
       "  </tbody>\n",
       "</table>\n",
       "</div>"
      ],
      "text/plain": [
       "    Basket_ID       Date       Barcode  Sum_Units  Sum_Value        Card_ID  \\\n",
       "0  1103084867 2013-04-15  800220505783          2   1.960000  9160003751260   \n",
       "1  1103853519 2013-04-17  520139501183          1   5.349993  9164001986624   \n",
       "\n",
       "        Key CategoryBDescription CategoryCDescription CategoryDDescription  \\\n",
       "0  10142392         Grocery Food                 pet                  cat    \n",
       "1  10122811           Detergents              laundry                 wash   \n",
       "\n",
       "               Description  \n",
       "0  Grocery Food- pet -cat   \n",
       "1  Detergents-laundry-wash  "
      ]
     },
     "execution_count": 92,
     "metadata": {},
     "output_type": "execute_result"
    }
   ],
   "source": [
    "#concatenate description for unique descp.\n",
    "sales_barcode_desc_df[\"Description\"] = sales_barcode_desc_df[\"CategoryBDescription\"]+\"-\"+sales_barcode_desc_df[\"CategoryCDescription\"]+\"-\"+sales_barcode_desc_df[\"CategoryDDescription\"]                               \n",
    "sales_barcode_desc_df.head(2)"
   ]
  },
  {
   "cell_type": "code",
   "execution_count": 103,
   "metadata": {},
   "outputs": [
    {
     "data": {
      "text/html": [
       "<div>\n",
       "<style scoped>\n",
       "    .dataframe tbody tr th:only-of-type {\n",
       "        vertical-align: middle;\n",
       "    }\n",
       "\n",
       "    .dataframe tbody tr th {\n",
       "        vertical-align: top;\n",
       "    }\n",
       "\n",
       "    .dataframe thead th {\n",
       "        text-align: right;\n",
       "    }\n",
       "</style>\n",
       "<table border=\"1\" class=\"dataframe\">\n",
       "  <thead>\n",
       "    <tr style=\"text-align: right;\">\n",
       "      <th></th>\n",
       "      <th>Barcode</th>\n",
       "    </tr>\n",
       "    <tr>\n",
       "      <th>Description</th>\n",
       "      <th></th>\n",
       "    </tr>\n",
       "  </thead>\n",
       "  <tbody>\n",
       "    <tr>\n",
       "      <td>products thatn expire soon-FRESH MILK-high pasterized</td>\n",
       "      <td>352</td>\n",
       "    </tr>\n",
       "    <tr>\n",
       "      <td>products thatn expire soon-FRESH MILK-fresh milk</td>\n",
       "      <td>262</td>\n",
       "    </tr>\n",
       "    <tr>\n",
       "      <td>DRINKS-BEVERAGES-cola</td>\n",
       "      <td>250</td>\n",
       "    </tr>\n",
       "    <tr>\n",
       "      <td>products thatn expire soon-yoghurt-white</td>\n",
       "      <td>247</td>\n",
       "    </tr>\n",
       "    <tr>\n",
       "      <td>Grocery Food-special packed bread-LIMITED DURATION</td>\n",
       "      <td>222</td>\n",
       "    </tr>\n",
       "  </tbody>\n",
       "</table>\n",
       "</div>"
      ],
      "text/plain": [
       "                                                    Barcode\n",
       "Description                                                \n",
       "products thatn expire soon-FRESH MILK-high past...      352\n",
       "products thatn expire soon-FRESH MILK-fresh milk        262\n",
       "DRINKS-BEVERAGES-cola                                   250\n",
       "products thatn expire soon-yoghurt-white                247\n",
       "Grocery Food-special packed bread-LIMITED DURATION      222"
      ]
     },
     "execution_count": 103,
     "metadata": {},
     "output_type": "execute_result"
    }
   ],
   "source": [
    "# identify best selling item per cluster = Blue\n",
    "blue_cluster = four_cluster_df.loc[four_cluster_df['Cluster'] == 2]\n",
    "\n",
    "blue_best_item_df = pd.DataFrame(sales_barcode_desc_df.loc[sales_barcode_desc_df['Card_ID'].isin(blue_cluster.index)].groupby(\n",
    "                    'Description').count()['Barcode'].sort_values(ascending=False).head())\n",
    "blue_best_item_df.head()"
   ]
  },
  {
   "cell_type": "code",
   "execution_count": 104,
   "metadata": {},
   "outputs": [
    {
     "data": {
      "text/html": [
       "<div>\n",
       "<style scoped>\n",
       "    .dataframe tbody tr th:only-of-type {\n",
       "        vertical-align: middle;\n",
       "    }\n",
       "\n",
       "    .dataframe tbody tr th {\n",
       "        vertical-align: top;\n",
       "    }\n",
       "\n",
       "    .dataframe thead th {\n",
       "        text-align: right;\n",
       "    }\n",
       "</style>\n",
       "<table border=\"1\" class=\"dataframe\">\n",
       "  <thead>\n",
       "    <tr style=\"text-align: right;\">\n",
       "      <th></th>\n",
       "      <th>Barcode</th>\n",
       "    </tr>\n",
       "    <tr>\n",
       "      <th>Description</th>\n",
       "      <th></th>\n",
       "    </tr>\n",
       "  </thead>\n",
       "  <tbody>\n",
       "    <tr>\n",
       "      <td>products thatn expire soon-FRESH MILK-fresh milk</td>\n",
       "      <td>2111</td>\n",
       "    </tr>\n",
       "    <tr>\n",
       "      <td>products thatn expire soon-FRESH MILK-high pasterized</td>\n",
       "      <td>1214</td>\n",
       "    </tr>\n",
       "    <tr>\n",
       "      <td>DRINKS-BEVERAGES-cola</td>\n",
       "      <td>953</td>\n",
       "    </tr>\n",
       "    <tr>\n",
       "      <td>products thatn expire soon-yoghurt-white</td>\n",
       "      <td>932</td>\n",
       "    </tr>\n",
       "    <tr>\n",
       "      <td>fruits and vegetables-fresh vegetables-ONMS - Dried garlic</td>\n",
       "      <td>877</td>\n",
       "    </tr>\n",
       "  </tbody>\n",
       "</table>\n",
       "</div>"
      ],
      "text/plain": [
       "                                                    Barcode\n",
       "Description                                                \n",
       "products thatn expire soon-FRESH MILK-fresh milk       2111\n",
       "products thatn expire soon-FRESH MILK-high past...     1214\n",
       "DRINKS-BEVERAGES-cola                                   953\n",
       "products thatn expire soon-yoghurt-white                932\n",
       "fruits and vegetables-fresh vegetables-ONMS - D...      877"
      ]
     },
     "execution_count": 104,
     "metadata": {},
     "output_type": "execute_result"
    }
   ],
   "source": [
    "# identify best selling item per cluster = red\n",
    "red_cluster = four_cluster_df.loc[four_cluster_df['Cluster'] == 0]\n",
    "\n",
    "red_best_item_df = pd.DataFrame(sales_barcode_desc_df.loc[sales_barcode_desc_df['Card_ID'].isin(red_cluster.index)].groupby(\n",
    "                    'Description').count()['Barcode'].sort_values(ascending=False).head())\n",
    "red_best_item_df.head()"
   ]
  },
  {
   "cell_type": "code",
   "execution_count": 105,
   "metadata": {},
   "outputs": [
    {
     "data": {
      "text/html": [
       "<div>\n",
       "<style scoped>\n",
       "    .dataframe tbody tr th:only-of-type {\n",
       "        vertical-align: middle;\n",
       "    }\n",
       "\n",
       "    .dataframe tbody tr th {\n",
       "        vertical-align: top;\n",
       "    }\n",
       "\n",
       "    .dataframe thead th {\n",
       "        text-align: right;\n",
       "    }\n",
       "</style>\n",
       "<table border=\"1\" class=\"dataframe\">\n",
       "  <thead>\n",
       "    <tr style=\"text-align: right;\">\n",
       "      <th></th>\n",
       "      <th>Barcode</th>\n",
       "    </tr>\n",
       "    <tr>\n",
       "      <th>CategoryBDescription</th>\n",
       "      <th></th>\n",
       "    </tr>\n",
       "  </thead>\n",
       "  <tbody>\n",
       "    <tr>\n",
       "      <td>Grocery Food</td>\n",
       "      <td>25873</td>\n",
       "    </tr>\n",
       "    <tr>\n",
       "      <td>fruits and vegetables</td>\n",
       "      <td>9972</td>\n",
       "    </tr>\n",
       "    <tr>\n",
       "      <td>Detergents</td>\n",
       "      <td>9535</td>\n",
       "    </tr>\n",
       "    <tr>\n",
       "      <td>products thatn expire soon</td>\n",
       "      <td>7261</td>\n",
       "    </tr>\n",
       "    <tr>\n",
       "      <td>DAIRY PRODUCTS</td>\n",
       "      <td>6519</td>\n",
       "    </tr>\n",
       "  </tbody>\n",
       "</table>\n",
       "</div>"
      ],
      "text/plain": [
       "                            Barcode\n",
       "CategoryBDescription               \n",
       "Grocery Food                  25873\n",
       "fruits and vegetables          9972\n",
       "Detergents                     9535\n",
       "products thatn expire soon     7261\n",
       "DAIRY PRODUCTS                 6519"
      ]
     },
     "execution_count": 105,
     "metadata": {},
     "output_type": "execute_result"
    }
   ],
   "source": [
    "# identify best selling item per cluster = green | change for category B description\n",
    "green_cluster = four_cluster_df.loc[four_cluster_df['Cluster'] == 1]\n",
    "\n",
    "green_best_item_df = pd.DataFrame(sales_barcode_desc_df.loc[sales_barcode_desc_df['Card_ID'].isin(green_cluster.index)].groupby(\n",
    "                    'CategoryBDescription').count()['Barcode'].sort_values(ascending=False).head())\n",
    "green_best_item_df.head()"
   ]
  },
  {
   "cell_type": "code",
   "execution_count": 106,
   "metadata": {},
   "outputs": [
    {
     "data": {
      "text/html": [
       "<div>\n",
       "<style scoped>\n",
       "    .dataframe tbody tr th:only-of-type {\n",
       "        vertical-align: middle;\n",
       "    }\n",
       "\n",
       "    .dataframe tbody tr th {\n",
       "        vertical-align: top;\n",
       "    }\n",
       "\n",
       "    .dataframe thead th {\n",
       "        text-align: right;\n",
       "    }\n",
       "</style>\n",
       "<table border=\"1\" class=\"dataframe\">\n",
       "  <thead>\n",
       "    <tr style=\"text-align: right;\">\n",
       "      <th></th>\n",
       "      <th>Barcode</th>\n",
       "    </tr>\n",
       "    <tr>\n",
       "      <th>CategoryBDescription</th>\n",
       "      <th></th>\n",
       "    </tr>\n",
       "  </thead>\n",
       "  <tbody>\n",
       "    <tr>\n",
       "      <td>Grocery Food</td>\n",
       "      <td>2421</td>\n",
       "    </tr>\n",
       "    <tr>\n",
       "      <td>fruits and vegetables</td>\n",
       "      <td>947</td>\n",
       "    </tr>\n",
       "    <tr>\n",
       "      <td>Detergents</td>\n",
       "      <td>889</td>\n",
       "    </tr>\n",
       "    <tr>\n",
       "      <td>products thatn expire soon</td>\n",
       "      <td>691</td>\n",
       "    </tr>\n",
       "    <tr>\n",
       "      <td>DRINKS</td>\n",
       "      <td>548</td>\n",
       "    </tr>\n",
       "  </tbody>\n",
       "</table>\n",
       "</div>"
      ],
      "text/plain": [
       "                            Barcode\n",
       "CategoryBDescription               \n",
       "Grocery Food                   2421\n",
       "fruits and vegetables           947\n",
       "Detergents                      889\n",
       "products thatn expire soon      691\n",
       "DRINKS                          548"
      ]
     },
     "execution_count": 106,
     "metadata": {},
     "output_type": "execute_result"
    }
   ],
   "source": [
    "# identify best selling item per cluster = yellow\n",
    "yellow_cluster = four_cluster_df.loc[four_cluster_df['Cluster'] == 3]\n",
    "\n",
    "yellow_best_item_df = pd.DataFrame(sales_barcode_desc_df.loc[sales_barcode_desc_df['Card_ID'].isin(yellow_cluster.index)].groupby(\n",
    "                    'CategoryBDescription').count()['Barcode'].sort_values(ascending=False).head())\n",
    "yellow_best_item_df.head()"
   ]
  },
  {
   "cell_type": "code",
   "execution_count": 97,
   "metadata": {},
   "outputs": [
    {
     "data": {
      "text/html": [
       "<div>\n",
       "<style scoped>\n",
       "    .dataframe tbody tr th:only-of-type {\n",
       "        vertical-align: middle;\n",
       "    }\n",
       "\n",
       "    .dataframe tbody tr th {\n",
       "        vertical-align: top;\n",
       "    }\n",
       "\n",
       "    .dataframe thead th {\n",
       "        text-align: right;\n",
       "    }\n",
       "</style>\n",
       "<table border=\"1\" class=\"dataframe\">\n",
       "  <thead>\n",
       "    <tr style=\"text-align: right;\">\n",
       "      <th></th>\n",
       "      <th>TotalSales</th>\n",
       "      <th>OrderCount</th>\n",
       "      <th>AvgOrderValue</th>\n",
       "      <th>Cluster</th>\n",
       "    </tr>\n",
       "    <tr>\n",
       "      <th>Card_ID</th>\n",
       "      <th></th>\n",
       "      <th></th>\n",
       "      <th></th>\n",
       "      <th></th>\n",
       "    </tr>\n",
       "  </thead>\n",
       "  <tbody>\n",
       "    <tr>\n",
       "      <td>9160000047700</td>\n",
       "      <td>1.276352</td>\n",
       "      <td>0.698411</td>\n",
       "      <td>1.346429</td>\n",
       "      <td>1</td>\n",
       "    </tr>\n",
       "    <tr>\n",
       "      <td>9160000072177</td>\n",
       "      <td>1.099190</td>\n",
       "      <td>-0.595263</td>\n",
       "      <td>1.714138</td>\n",
       "      <td>2</td>\n",
       "    </tr>\n",
       "    <tr>\n",
       "      <td>9160000108180</td>\n",
       "      <td>0.525186</td>\n",
       "      <td>-1.731460</td>\n",
       "      <td>1.720437</td>\n",
       "      <td>2</td>\n",
       "    </tr>\n",
       "    <tr>\n",
       "      <td>9160000137227</td>\n",
       "      <td>1.033050</td>\n",
       "      <td>0.270073</td>\n",
       "      <td>1.455088</td>\n",
       "      <td>1</td>\n",
       "    </tr>\n",
       "    <tr>\n",
       "      <td>9160000168443</td>\n",
       "      <td>-0.236216</td>\n",
       "      <td>0.270861</td>\n",
       "      <td>-1.018877</td>\n",
       "      <td>0</td>\n",
       "    </tr>\n",
       "  </tbody>\n",
       "</table>\n",
       "</div>"
      ],
      "text/plain": [
       "               TotalSales  OrderCount  AvgOrderValue  Cluster\n",
       "Card_ID                                                      \n",
       "9160000047700    1.276352    0.698411       1.346429        1\n",
       "9160000072177    1.099190   -0.595263       1.714138        2\n",
       "9160000108180    0.525186   -1.731460       1.720437        2\n",
       "9160000137227    1.033050    0.270073       1.455088        1\n",
       "9160000168443   -0.236216    0.270861      -1.018877        0"
      ]
     },
     "execution_count": 97,
     "metadata": {},
     "output_type": "execute_result"
    }
   ],
   "source": [
    "four_cluster_df.head()"
   ]
  },
  {
   "cell_type": "code",
   "execution_count": null,
   "metadata": {},
   "outputs": [],
   "source": [
    "#analysis could go deeper into matching card_id with loyalty information to find more information about cluster 1,2,3,4\n",
    "loyalty_df.head()"
   ]
  },
  {
   "cell_type": "markdown",
   "metadata": {},
   "source": [
    "The limitation of the Cluster Analysis k-means is that only considers value sold and frequency. It does not hep to identify the customer shopping mission (why did he went to the store). <br>\n",
    "The RFM model, adds a third dimension(recency) but it also fails to identify the customer mission. <br>\n",
    "For this, we will use the customer segmentation, based on basket segmentation. "
   ]
  },
  {
   "cell_type": "markdown",
   "metadata": {},
   "source": [
    "Key takeaways: <br>\n",
    "Cluster K-means: identify opportunitties segments (blue,red) <br>\n",
    "RFM: identify departing customer and act to retain them. "
   ]
  }
 ],
 "metadata": {
  "kernelspec": {
   "display_name": "Python 3",
   "language": "python",
   "name": "python3"
  },
  "language_info": {
   "codemirror_mode": {
    "name": "ipython",
    "version": 3
   },
   "file_extension": ".py",
   "mimetype": "text/x-python",
   "name": "python",
   "nbconvert_exporter": "python",
   "pygments_lexer": "ipython3",
   "version": "3.7.4"
  }
 },
 "nbformat": 4,
 "nbformat_minor": 2
}
